{
 "cells": [
  {
   "cell_type": "markdown",
   "id": "d7a8a4af",
   "metadata": {},
   "source": [
    "https://scikit-learn.org/stable/auto_examples/cluster/plot_cluster_comparison.html"
   ]
  },
  {
   "cell_type": "markdown",
   "id": "24e118f6",
   "metadata": {},
   "source": [
    "### Imports"
   ]
  },
  {
   "cell_type": "code",
   "execution_count": 3,
   "id": "545f77e8",
   "metadata": {},
   "outputs": [],
   "source": [
    "import torch\n",
    "import torch.nn as nn\n",
    "import numpy as np\n",
    "import matplotlib.pyplot as plt\n",
    "\n",
    "%matplotlib inline"
   ]
  },
  {
   "cell_type": "markdown",
   "id": "a85454a5",
   "metadata": {},
   "source": [
    "### Functions"
   ]
  },
  {
   "cell_type": "code",
   "execution_count": 53,
   "id": "1eac2e53",
   "metadata": {},
   "outputs": [],
   "source": [
    "def create_dataset(N,a,b,x,y):\n",
    "    X = np.random.random((N,2))*x - y\n",
    "    Y = np.cos(a*X[:,0]) + np.cos(b*X[:,1])\n",
    "    \n",
    "    return X,Y\n",
    "\n",
    "\n",
    "def to_torch(X,mode=0):\n",
    "    if mode==0: \n",
    "        return torch.from_numpy(X.astype(np.float32))\n",
    "\n",
    "    elif mode==1:\n",
    "        return torch.from_numpy(X.astype(np.int64))\n",
    "    \n",
    "\n",
    "def create_model_and_train(X_train,Y_train,n_epochs=1000):\n",
    "    \n",
    "    model = nn.Sequential(\n",
    "        nn.Linear(64,3),\n",
    "#         nn.ReLU(),\n",
    "#         nn.Linear(32,3)\n",
    "    )\n",
    "#     criterion = nn.MSELoss()\n",
    "    criterion = nn.CrossEntropyLoss()\n",
    "    optimizer = torch.optim.Adam(model.parameters(),lr=0.01)\n",
    "    \n",
    "    \n",
    "    inputs  = to_torch(X_train,mode=0)\n",
    "    targets = to_torch(Y_train,mode=1)\n",
    "    \n",
    "    \n",
    "    train_losses = np.zeros(n_epochs)\n",
    "    \n",
    "    \n",
    "    for it in range(n_epochs):\n",
    "        optimizer.zero_grad()\n",
    "        outputs = model(inputs)\n",
    "        \n",
    "        loss = criterion(outputs, torch.max(targets, 1)[1])\n",
    "#         loss = criterion(outputs, targets)\n",
    "        train_losses[it]=loss.item()\n",
    "        \n",
    "        loss.backward()\n",
    "        optimizer.step()\n",
    "        \n",
    "        \n",
    "        if it%10==0:\n",
    "            print(\"{:20}\".format(f\"epoch {it+1}/{n_epochs}, Train Loss: {loss.item():.4f}\"))\n",
    "        \n",
    "    return model ,train_losses\n",
    "\n",
    "\n",
    "def plot_metric(data, metric):\n",
    "    plt.plot(data, label=f\"train {metric}\")\n",
    "    plt.legend()\n",
    "    plt.show"
   ]
  },
  {
   "cell_type": "markdown",
   "id": "1b45d79d",
   "metadata": {},
   "source": [
    "### Create dataset"
   ]
  },
  {
   "cell_type": "code",
   "execution_count": 54,
   "id": "0712c593",
   "metadata": {},
   "outputs": [],
   "source": [
    "# type(create_dataset(100,1,1,1,1)[0][0])"
   ]
  },
  {
   "cell_type": "code",
   "execution_count": 55,
   "id": "d3797ed8",
   "metadata": {},
   "outputs": [],
   "source": [
    "X = np.array([\n",
    "    np.array([0,0,0,0,0,0,0,0,0,0,0,0,0,0,0,0,0,0,0,0,0,0,0,0,0,0,1,0,0,0,0,1,0,0,1,1,1,1,1,1,0,0,0,0,0,0,0,0,0,0,0,0,1,0,0,0,0,0,0,0,0,0,0,0]),\n",
    "    np.array([0,0,0,0,0,1,0,1,0,0,0,0,1,0,1,0, 0,0,0,0,0,1,0,0,1,0,0,0,1,0,0,0,1,1,1,1,1,0,0,0,0,0,0,0,0,0,0,0,0,0,0,0,0,0,0,0,0,0,0,0,0,0,0,0]),\n",
    "    np.array([0,0,0,0,0,0,0,0, 0,0,0,0,0,0,0,0,0,0,0,0,0,1,1,0,0,0,1,0,1,0,0,1,1,0,1,1,1,1,1,1,1,0,1,0,0,0,0,0,1,1,1,0,0,0,0,0,0,0,0,0,0,0,0,0]),\n",
    "])\n",
    "\n",
    "Y = np.array([\n",
    "    np.array([0,0,1]),\n",
    "    np.array([0,1,0]),\n",
    "    np.array([1,0,0]),\n",
    "])"
   ]
  },
  {
   "cell_type": "markdown",
   "id": "c2986bff",
   "metadata": {},
   "source": [
    "### Create and train model"
   ]
  },
  {
   "cell_type": "code",
   "execution_count": 56,
   "id": "b224f535",
   "metadata": {},
   "outputs": [
    {
     "name": "stdout",
     "output_type": "stream",
     "text": [
      "epoch 1/100, Train Loss: 1.1823\n",
      "epoch 11/100, Train Loss: 0.4877\n",
      "epoch 21/100, Train Loss: 0.2029\n",
      "epoch 31/100, Train Loss: 0.1024\n",
      "epoch 41/100, Train Loss: 0.0625\n",
      "epoch 51/100, Train Loss: 0.0442\n",
      "epoch 61/100, Train Loss: 0.0343\n",
      "epoch 71/100, Train Loss: 0.0281\n",
      "epoch 81/100, Train Loss: 0.0238\n",
      "epoch 91/100, Train Loss: 0.0206\n"
     ]
    }
   ],
   "source": [
    "model ,train_losses = create_model_and_train(X,Y,n_epochs=100)"
   ]
  },
  {
   "cell_type": "code",
   "execution_count": 57,
   "id": "543f8d5e",
   "metadata": {},
   "outputs": [
    {
     "data": {
      "image/png": "[encoded data removed]",
      "text/plain": [
       "<Figure size 432x288 with 1 Axes>"
      ]
     },
     "metadata": {
      "needs_background": "light"
     },
     "output_type": "display_data"
    }
   ],
   "source": [
    "plot_metric(train_losses, \"Loss\")"
   ]
  },
  {
   "cell_type": "code",
   "execution_count": 58,
   "id": "fa1da3d9",
   "metadata": {},
   "outputs": [],
   "source": [
    "inputs  = to_torch(X,mode=0)"
   ]
  },
  {
   "cell_type": "code",
   "execution_count": 59,
   "id": "8d5d5a4f",
   "metadata": {},
   "outputs": [
    {
     "data": {
      "text/plain": [
       "tensor([[-0.6268, -1.5449,  3.3842],\n",
       "        [-1.7499,  3.5401, -1.5678],\n",
       "        [ 3.5124, -2.1116, -0.7022]], grad_fn=<AddmmBackward>)"
      ]
     },
     "execution_count": 59,
     "metadata": {},
     "output_type": "execute_result"
    }
   ],
   "source": [
    "model(inputs)"
   ]
  },
  {
   "cell_type": "code",
   "execution_count": null,
   "id": "d8f64bfb",
   "metadata": {},
   "outputs": [],
   "source": []
  }
 ],
 "metadata": {
  "kernelspec": {
   "display_name": "Python 3",
   "language": "python",
   "name": "python3"
  },
  "language_info": {
   "codemirror_mode": {
    "name": "ipython",
    "version": 3
   },
   "file_extension": ".py",
   "mimetype": "text/x-python",
   "name": "python",
   "nbconvert_exporter": "python",
   "pygments_lexer": "ipython3",
   "version": "3.7.9"
  }
 },
 "nbformat": 4,
 "nbformat_minor": 5
}
