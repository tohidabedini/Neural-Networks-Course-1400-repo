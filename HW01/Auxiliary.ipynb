{
 "cells": [
  {
   "cell_type": "code",
   "execution_count": 1,
   "id": "6ed01772",
   "metadata": {},
   "outputs": [],
   "source": [
    "import numpy as np\n",
    "import matplotlib.pyplot as plt\n",
    "import pandas as pd\n",
    "\n",
    "%matplotlib inline"
   ]
  },
  {
   "cell_type": "code",
   "execution_count": 2,
   "id": "8f59b0c5",
   "metadata": {},
   "outputs": [],
   "source": [
    "import math\n",
    "\n",
    "def sigmoid(x):\n",
    "    a = []\n",
    "    for item in x:\n",
    "        a.append(1/(1+math.exp(-item)))\n",
    "    return a"
   ]
  },
  {
   "cell_type": "code",
   "execution_count": null,
   "id": "11c1a9ed",
   "metadata": {},
   "outputs": [],
   "source": [
    "X = np.arange(-10., 10., 0.2)\n",
    "Y = np.linspace(0, len(Xaxis), len(Xaxis))"
   ]
  },
  {
   "cell_type": "code",
   "execution_count": null,
   "id": "20bef64b",
   "metadata": {},
   "outputs": [],
   "source": [
    "x = np.arange(-10., 10., 0.2)\n",
    "sig = sigmoid(x)"
   ]
  },
  {
   "cell_type": "code",
   "execution_count": null,
   "id": "3546f1cb",
   "metadata": {},
   "outputs": [],
   "source": [
    "in_array = np.linspace(-np.pi, np.pi, 100)\n",
    "out_array = np.tanh(in_array)"
   ]
  },
  {
   "cell_type": "code",
   "execution_count": null,
   "id": "d568ca2d",
   "metadata": {},
   "outputs": [],
   "source": [
    "# plt.plot(X, Y)\n",
    "plt.plot(x,sig)\n",
    "# plt.plot(in_array, out_array, color = 'red')\n",
    "plt.legend(['Sigmoid'])\n",
    "# plt.legend(['tanh'])\n",
    "\n",
    "plt.show()"
   ]
  },
  {
   "cell_type": "code",
   "execution_count": null,
   "id": "1c384ab9",
   "metadata": {},
   "outputs": [],
   "source": [
    "def elu(z,alpha=0.5):\n",
    "    return np.where(z >= 0, z, alpha*(np.power(np.exp(1),z) -1))\n",
    "#     return z if z >= 0 else alpha*(np.power(e,z) -1)"
   ]
  },
  {
   "cell_type": "code",
   "execution_count": null,
   "id": "687adde6",
   "metadata": {},
   "outputs": [],
   "source": [
    "x = np.linspace(-10, 10, 1000)\n",
    "# y = np.maximum(0, x)\n",
    "y = elu(x)\n",
    "\n",
    "# plt.figure(figsize=(10, 5))\n",
    "plt.plot(x, y)\n",
    "plt.legend(['ELU , alpha=0.5'])\n",
    "plt.show()"
   ]
  },
  {
   "cell_type": "code",
   "execution_count": null,
   "id": "8335822a",
   "metadata": {},
   "outputs": [],
   "source": [
    "# [1,0,0,1]\n",
    "plt.scatter([0,0,1,1], [0,1,0,1], c = [0,0,0,1])\n",
    "plt.ylim(top=2, bottom=-1)\n",
    "plt.xlim(left=-1, right=2)\n"
   ]
  }
 ],
 "metadata": {
  "kernelspec": {
   "display_name": "Python 3",
   "language": "python",
   "name": "python3"
  },
  "language_info": {
   "codemirror_mode": {
    "name": "ipython",
    "version": 3
   },
   "file_extension": ".py",
   "mimetype": "text/x-python",
   "name": "python",
   "nbconvert_exporter": "python",
   "pygments_lexer": "ipython3",
   "version": "3.7.9"
  }
 },
 "nbformat": 4,
 "nbformat_minor": 5
}
