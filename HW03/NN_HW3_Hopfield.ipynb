{
 "cells": [
  {
   "cell_type": "markdown",
   "metadata": {
    "id": "S-TsZLRFnOhL"
   },
   "source": [
    "In this problem, you need to train a Hopfield network using the attached image. Use the attached training image to train your network and then evaluate its performance employing the attached test image. To this end, you need to complete each cell step by step.\n",
    "\n",
    "You have to submit the final saved image as well as the completed notebook. \n"
   ]
  },
  {
   "cell_type": "code",
   "execution_count": 37,
   "metadata": {
    "id": "0AMvHdjHnPNR"
   },
   "outputs": [],
   "source": [
    "import numpy as np\n",
    "import random\n",
    "import PIL\n",
    "from PIL import Image\n",
    "import os\n",
    "import re\n",
    "# from google.colab.patches import cv2_imshow \n",
    "# I ran code on my laptop. You can uncomment the above line and comment the below line to make it suitable to run on Colab\n",
    "from cv2 import imshow as cv2_imshow \n",
    "import pickle"
   ]
  },
  {
   "cell_type": "markdown",
   "metadata": {},
   "source": [
    "### My auxililiary functions for storing w instead of computing it every time. "
   ]
  },
  {
   "cell_type": "code",
   "execution_count": 83,
   "metadata": {},
   "outputs": [],
   "source": [
    "def pickle_writer(obj,path):\n",
    "    with open(path, 'wb') as handle:\n",
    "        pickle.dump(obj, handle, protocol=pickle.HIGHEST_PROTOCOL)\n",
    "\n",
    "def pickle_reader(path):\n",
    "    with open(path, 'rb') as handle:\n",
    "        b = pickle.load(handle)\n",
    "    return b\n",
    "\n",
    "def w_calculator_saver(train_files=\"./train.jpg\", path=\"./weights.pkl\", threshold=145):\n",
    "    train_image = readImg2array(train_files,size=(100,100), threshold= threshold)\n",
    "    train_image_vec = mat2vec(train_image)\n",
    "    w = create_W(train_image_vec)\n",
    "    pickle_writer(w, path)"
   ]
  },
  {
   "cell_type": "markdown",
   "metadata": {},
   "source": [
    "### Other functions"
   ]
  },
  {
   "cell_type": "code",
   "execution_count": 84,
   "metadata": {
    "id": "fVcKwIzM0LUQ"
   },
   "outputs": [],
   "source": [
    "#Convert a matrix to a vector\n",
    "def mat2vec(x):\n",
    "    \"\"\"convert the matrix x to a vector \"\"\"\n",
    "    tmp1 = x.flatten()\n",
    "    return tmp1"
   ]
  },
  {
   "cell_type": "code",
   "execution_count": 85,
   "metadata": {
    "id": "Kluvs_LM0shA"
   },
   "outputs": [],
   "source": [
    "def create_W(x):\n",
    "    \"\"\"  \n",
    "    Create a square matrix with the same size as the input size.\n",
    "    Note 1: The weight matrix must be symmetric\n",
    "    Tip 1: For row i and column j, while i != j, place the value x [i] * x [j] in the weight matrix w [i, j]\n",
    "    Tip 2: For row i and column j, while i=j, put the value 0 in the weight matrix w [i, j]\n",
    "    \"\"\"\n",
    "    w = np.zeros((x.shape[0], x.shape[0]))\n",
    "    for i in range(w.shape[0]):\n",
    "        if i%1000==0:\n",
    "            print(i)\n",
    "        for j in range(i,w.shape[1]):\n",
    "            if i!=j:\n",
    "                w[i][j] = w[j][i] = x[i]*x[j]\n",
    "\n",
    "    return w"
   ]
  },
  {
   "cell_type": "code",
   "execution_count": 86,
   "metadata": {
    "id": "OGaxLOt53Iog"
   },
   "outputs": [],
   "source": [
    "#Read an image file and convert it to a pattern of the image\n",
    "def readImg2array(file,size, threshold= 145):\n",
    "    img = Image.open(file).convert(mode=\"L\")\n",
    "    img= img.resize(size)\n",
    "    #img.thumbnail(size,Image.ANTIALIAS)\n",
    "    imgArray = np.asarray(img,dtype=np.uint8)\n",
    "    x = np.zeros(imgArray.shape,dtype=np.float)\n",
    "\n",
    "    \"\"\"\n",
    "    Set the value to 1 for each pixel value with the larger than the threshold,\n",
    "    and Set the value to -1 for each image pixel with a value of 0.\n",
    "    \"\"\"\n",
    "    for i in range(x.shape[0]):\n",
    "        for j in range(x.shape[1]):\n",
    "            if imgArray[i][j] > threshold:\n",
    "                x[i][j] = 1\n",
    "            elif imgArray[i][j]==0:\n",
    "                x[i][j] = -1\n",
    "\n",
    "    return x"
   ]
  },
  {
   "cell_type": "code",
   "execution_count": 87,
   "metadata": {
    "id": "Vdj87wEq4T0v"
   },
   "outputs": [],
   "source": [
    "#Convert a numpy array to an image file like Jpeg\n",
    "def array2img(data, outFile = None):\n",
    "\n",
    "    #data is 1 or -1 matrix\n",
    "    y = np.zeros(data.shape,dtype=np.uint8)\n",
    "    y[data==1] = 255\n",
    "    y[data==-1] = 0\n",
    "    img = Image.fromarray(y,mode=\"L\")\n",
    "    if outFile is not None:\n",
    "        img.save(outFile)\n",
    "    return img"
   ]
  },
  {
   "cell_type": "code",
   "execution_count": 102,
   "metadata": {
    "id": "ivQi0cbZ4YT0"
   },
   "outputs": [],
   "source": [
    "#Update the test input pattern (y_vec) based on the weight matrix\n",
    "def update(w,y_vec,theta=0.5,time=100):\n",
    "\n",
    "    \"\"\"\n",
    "    Once in a while, select a random number between 0 and the size of the input vector -1.\n",
    "    Then use the random number line of the weight matrix to multiply internally by the input vector.\n",
    "    Subtract the result from theta\n",
    "    If the end result is greater than 0, enter a value of 1 in the input vector, otherwise replace -1.\n",
    "    \"\"\"\n",
    "    for i in range(time):\n",
    "        if i%10000==0:\n",
    "            print(i)\n",
    "        random_row = int(np.random.uniform(low=0.0, high=len(y_vec)-1, size=1)[0])\n",
    "        product_result = np.dot(w[random_row,:],y_vec) - theta\n",
    "        if product_result>0:\n",
    "            y_vec[random_row]=1\n",
    "        else:\n",
    "            y_vec[random_row]=-1\n",
    "        \n",
    "\n",
    "    return y_vec"
   ]
  },
  {
   "cell_type": "code",
   "execution_count": 103,
   "metadata": {
    "id": "pxSyUwhC614R"
   },
   "outputs": [],
   "source": [
    "def hopfield(train_files, test_files,theta=0.5, time=1000, size=(100,100),threshold=60, load=False):\n",
    "    \n",
    "    \"\"\"\n",
    "    Using the built-in functions, Do the following steps:\n",
    "    1- Read the input image and extract its pattern\n",
    "    2. Convert the obtained pattern into a vector\n",
    "    3- Make a weight matrix based on the vector of the previous step\n",
    "    4- Read the test image and extract its pattern\n",
    "    5- Convert the test pattern into a vector and give it as the input of the update function along with the built-in weight matrix.\n",
    "\n",
    "    \"\"\"\n",
    "    \n",
    "    train_image = readImg2array(train_files,size, threshold)\n",
    "    train_image_vec = mat2vec(train_image)\n",
    "    \n",
    "    if not load:\n",
    "        w = create_W(train_image_vec)\n",
    "    else:\n",
    "        w = pickle_reader(\"./weights.pkl\")\n",
    "        print(\"w loaded.\")\n",
    "    \n",
    "    test_image = readImg2array(test_files,size, threshold)\n",
    "    y_vec = mat2vec(test_image)\n",
    "\n",
    "    y_vec_after = update(w=w,y_vec=y_vec,theta=theta,time=time)\n",
    "    \n",
    "    y_vec_after = y_vec_after.reshape(test_image.shape)\n",
    "    \n",
    "    after_img = array2img(y_vec_after,outFile=None)\n",
    "    after_img.save(\"result.jpg\")\n",
    "    after_img.show()\n",
    "    "
   ]
  },
  {
   "cell_type": "code",
   "execution_count": 104,
   "metadata": {},
   "outputs": [],
   "source": [
    "threshold=60"
   ]
  },
  {
   "cell_type": "code",
   "execution_count": 91,
   "metadata": {},
   "outputs": [
    {
     "name": "stdout",
     "output_type": "stream",
     "text": [
      "0\n",
      "1000\n",
      "2000\n",
      "3000\n",
      "4000\n",
      "5000\n",
      "6000\n",
      "7000\n",
      "8000\n",
      "9000\n"
     ]
    }
   ],
   "source": [
    "# Run only once\n",
    "w_calculator_saver(train_files=\"./train.jpg\", path=\"./weights.pkl\", threshold=threshold)"
   ]
  },
  {
   "cell_type": "code",
   "execution_count": 110,
   "metadata": {
    "id": "Ru50z8cE9unG"
   },
   "outputs": [
    {
     "name": "stdout",
     "output_type": "stream",
     "text": [
      "w loaded.\n",
      "0\n",
      "10000\n",
      "20000\n",
      "30000\n",
      "40000\n"
     ]
    }
   ],
   "source": [
    "# set load=True to load weights from saved pickle file instead of computing it every time for rapid testing of different parameters\n",
    "hopfield(\"./train.jpg\", \"./test.jpg\", theta=0.5,time=50000,size=(100,100),threshold=threshold, load=True)"
   ]
  }
 ],
 "metadata": {
  "colab": {
   "collapsed_sections": [],
   "name": "NN_HW3_Hopfield.ipynb",
   "provenance": []
  },
  "kernelspec": {
   "display_name": "Python 3",
   "language": "python",
   "name": "python3"
  },
  "language_info": {
   "codemirror_mode": {
    "name": "ipython",
    "version": 3
   },
   "file_extension": ".py",
   "mimetype": "text/x-python",
   "name": "python",
   "nbconvert_exporter": "python",
   "pygments_lexer": "ipython3",
   "version": "3.7.4"
  }
 },
 "nbformat": 4,
 "nbformat_minor": 1
}
