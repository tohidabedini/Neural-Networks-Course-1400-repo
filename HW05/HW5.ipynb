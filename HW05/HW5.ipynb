{
 "cells": [
  {
   "cell_type": "markdown",
   "metadata": {},
   "source": [
    "# References\n",
    "\n",
    "https://analyticsindiamag.com/reinforcement-learning-policy/\n",
    "\n",
    "https://leimao.github.io/blog/RL-On-Policy-VS-Off-Policy/"
   ]
  },
  {
   "cell_type": "markdown",
   "metadata": {},
   "source": [
    "# Imports"
   ]
  },
  {
   "cell_type": "code",
   "execution_count": 13,
   "metadata": {},
   "outputs": [],
   "source": [
    "import numpy as np\n",
    "import copy\n",
    "from gym import Env\n",
    "import datetime\n",
    "import sys\n",
    "import itertools\n",
    "import random\n",
    "import matplotlib.pyplot as plt"
   ]
  },
  {
   "cell_type": "markdown",
   "metadata": {
    "id": "Nd4GU-Pf4vd9"
   },
   "source": [
    "# Environment"
   ]
  },
  {
   "cell_type": "code",
   "execution_count": 3,
   "metadata": {
    "id": "b8Ie-mkhiGjT"
   },
   "outputs": [],
   "source": [
    "class FrozenLake(Env):\n",
    "    \n",
    "    def __init__(self,studentNum:int=256, nonStationary = False):\n",
    "        self.studentNum = studentNum\n",
    "        self.nonStationary = nonStationary\n",
    "        \n",
    "        np.random.seed(self.studentNum)\n",
    "        self.beginMap = make_map(self.studentNum) #*2\n",
    "        self.beginMap[self.beginMap>1] = 1\n",
    "        self.endMap = make_map(self.studentNum + 100)\n",
    "        \n",
    "        self.changeDir = self.endMap - self.beginMap\n",
    "        self.changeDir *= 1/11000\n",
    "\n",
    "        self.fixedMap = self.beginMap\n",
    "\n",
    "        np.random.seed(datetime.datetime.now().microsecond)\n",
    "        \n",
    "        self.map = copy.deepcopy(self.fixedMap)\n",
    "        self.time = 0\n",
    "        self.reset()\n",
    "\n",
    "        \n",
    "    def reset(self):\n",
    "        self.NSreset()\n",
    "        if not self.nonStationary:\n",
    "            self.map = copy.deepcopy(self.fixedMap)\n",
    "            self.time = 0\n",
    "\n",
    "        return self.state\n",
    "\n",
    "    \n",
    "    def NSreset(self):\n",
    "        self.time += 1\n",
    "        self.map += self.changeDir\n",
    "\n",
    "        self.map[self.map>0.95]=0.95\n",
    "        self.map[self.map<0.0]=0.0\n",
    "\n",
    "        self.state = (0,0)\n",
    "        self.done = False\n",
    "        return self.state\n",
    "    \n",
    "    \n",
    "    def states_transitions(self, state, action):\n",
    "        x = state[0]\n",
    "        y = state[1]\n",
    "        states = np.array([[x,y-1], [x,y+1], [x-1 ,y], [x+1,y] ])\n",
    "\n",
    "\n",
    "        if action == UP:\n",
    "            selected = states[2]\n",
    "        if action == DOWN:\n",
    "            selected = states[3]\n",
    "        if action == RIGHT:\n",
    "            selected = states[1]\n",
    "        if action == LEFT:\n",
    "            selected = states[0]\n",
    "\n",
    "        zero = np.zeros((4,2)).astype(int)\n",
    "        three = (3 * np.ones((4,2))).astype(int)\n",
    "        output = np.maximum(np.minimum(states, three),zero)\n",
    "        output, indices = np.unique(output, axis = 0, return_counts= True)\n",
    "\n",
    "        \n",
    "        selected = np.maximum(np.minimum(selected, three[0]), zero[0])\n",
    "        probs = indices * 0.025\n",
    "        probs[np.argmax(np.sum(selected == output, axis = 1))] += 0.9\n",
    "\n",
    "        return list(zip(output[:,0],output[:,1])), probs\n",
    "    \n",
    "    \n",
    "    def possible_consequences(self,action:int,state_now=None):\n",
    "\n",
    "        if state_now==None:\n",
    "            state_now = self.state\n",
    "\n",
    "        state = [state_now[0],state_now[1]]\n",
    "        states, probs = self.states_transitions(state, action)\n",
    "        aa = np.array(states) \n",
    "        fail_probs = self.map[(aa[:,0]),(aa[:,1])]\n",
    "        dones = np.sum(aa == 3, axis = 1) == 2\n",
    "        return states, probs, fail_probs,dones\n",
    "    \n",
    "    \n",
    "    def step(self, a:int):\n",
    "        if not (a in range(4)):\n",
    "            raise Exception(\"action is not available!!!\")\n",
    "        \n",
    "        states, probs, fail_probs,dones = self.possible_consequences(a)\n",
    "        \n",
    "        next_idx = np.random.choice(np.arange(len(states)), p = probs)\n",
    "        next_state = states[next_idx]\n",
    "        self.state = tuple(next_state)\n",
    "        \n",
    "        self.done = dones[next_idx]\n",
    "\n",
    "        r = -1\n",
    "\n",
    "        if self.done:\n",
    "            r += 60\n",
    "        elif np.random.rand()< fail_probs[next_idx]:\n",
    "            r -= 15\n",
    "            self.done = True\n",
    "\n",
    "        return (self.state, r, self.done, {})\n",
    "\n",
    "    \n",
    "    def render(self,state=None):\n",
    "        if state == None:\n",
    "            state = self.state\n",
    "\n",
    "        out = \"\"\n",
    "        for i in range(4):\n",
    "            out += \"\\n------------------------------\\n| \"\n",
    "            for j in range(4):\n",
    "                if (i,j) == state:\n",
    "                    out += \"\\033[44m{:.3f}\\033[0m | \".format(self.map[i,j])\n",
    "                else :\n",
    "                    out += \"{:.3f} | \".format(self.map[i,j])\n",
    "\n",
    "        out += \"\\n------------------------------\"\n",
    "        print(out)\n",
    "\n",
    "        \n",
    "    def environment_states(self):\n",
    "        env_states = []\n",
    "        for state_index in range(16):\n",
    "            s0 = state_index % 4\n",
    "            s1 = state_index//4\n",
    "            env_states.append((s0,s1))\n",
    "        return env_states\n",
    "\n",
    "        \n",
    "def set_max_min(var,maximum,minimum):\n",
    "    return min(max(var,minimum),maximum)\n",
    "\n",
    "\n",
    "def make_map(studentNum):\n",
    "    np.random.seed(studentNum)  \n",
    "    move = np.zeros(6)\n",
    "    idx = np.random.choice(range(6),size=3,replace=False)\n",
    "    move[idx] = 1\n",
    "\n",
    "    point = [0,0]\n",
    "    lowprobs = [tuple(point)]\n",
    "\n",
    "    for m in move:\n",
    "        if m:\n",
    "            point[0] += 1\n",
    "        else:\n",
    "            point[1] += 1\n",
    "        lowprobs.append(tuple(point))\n",
    "    \n",
    "    map = np.random.rand(4,4)\n",
    "    idx = np.array(lowprobs)\n",
    "\n",
    "    map[idx[:,0],idx[:,1]] = 0.001 \n",
    "    map[0,0] = 0.0\n",
    "    map[3,3] = 0.0 \n",
    "\n",
    "    return map"
   ]
  },
  {
   "cell_type": "markdown",
   "metadata": {
    "id": "JIrM2PNQ4l5G"
   },
   "source": [
    "## Your Student ID"
   ]
  },
  {
   "cell_type": "code",
   "execution_count": 4,
   "metadata": {
    "id": "JvWeNrBx4or9"
   },
   "outputs": [],
   "source": [
    "STUDENT_NUM = 99722153"
   ]
  },
  {
   "cell_type": "markdown",
   "metadata": {
    "id": "ba-NtxEn5LJ0"
   },
   "source": [
    "# HyperParameters"
   ]
  },
  {
   "cell_type": "code",
   "execution_count": 5,
   "metadata": {
    "id": "54H4VswF5Kot"
   },
   "outputs": [],
   "source": [
    "#%% allowed actions\n",
    "LEFT = 0\n",
    "DOWN = 1\n",
    "RIGHT = 2\n",
    "UP = 3\n",
    "\n",
    "ACTIONS = [LEFT,DOWN,RIGHT,UP]\n",
    "\n",
    "#%% hyperparameters\n",
    "EPISODES = 10000\n",
    "EPSILON = 0.1\n",
    "LEARNING_RATE = 0.1\n",
    "DISCOUNT = 0.9"
   ]
  },
  {
   "cell_type": "markdown",
   "metadata": {
    "id": "Mdub8jub5bM9"
   },
   "source": [
    "## Map of environment"
   ]
  },
  {
   "cell_type": "code",
   "execution_count": 6,
   "metadata": {
    "id": "ME5gllo7g0p7"
   },
   "outputs": [
    {
     "name": "stdout",
     "output_type": "stream",
     "text": [
      "Environment with fail probabilities :\n",
      "\n",
      "------------------------------\n",
      "| \u001b[44m0.000\u001b[0m | 0.001 | 0.293 | 0.680 | \n",
      "------------------------------\n",
      "| 0.736 | 0.001 | 0.001 | 0.001 | \n",
      "------------------------------\n",
      "| 0.693 | 0.892 | 0.218 | 0.001 | \n",
      "------------------------------\n",
      "| 0.465 | 0.918 | 0.318 | 0.000 | \n",
      "------------------------------\n"
     ]
    }
   ],
   "source": [
    "environment = FrozenLake(studentNum=STUDENT_NUM)\n",
    "\n",
    "print(\"Environment with fail probabilities :\")\n",
    "environment.render()\n"
   ]
  },
  {
   "cell_type": "markdown",
   "metadata": {
    "id": "9z-KEpaeOcAh"
   },
   "source": [
    "## <h2><font color=indigo> Agent Implementation\n",
    "Implement your q-learning (off-policy TD) agent here. You need to utilize the step function provided in the Environment class to interact with frozen lake environment."
   ]
  },
  {
   "cell_type": "code",
   "execution_count": 32,
   "metadata": {
    "id": "9P-5IZqIeco8"
   },
   "outputs": [],
   "source": [
    "class Q_Learning:\n",
    "    \n",
    "    def __init__(self, id, environment, discount , learning_rate = 0.1 , epsilon = 0.1 ,episodes=10000):\n",
    "        \n",
    "        self.id = id\n",
    "        \n",
    "        self.map_size = 16\n",
    "        self.map_y = 4\n",
    "        \n",
    "        self.environment = environment\n",
    "        self.discount = discount\n",
    "        self.episodes = episodes\n",
    "        self.learning_rate = learning_rate\n",
    "        self.environment = environment\n",
    "        self.epsilon = epsilon\n",
    "        self.n_actions = 4\n",
    "        self.Q_values = np.zeros((self.map_size,self.n_actions))\n",
    "        \n",
    "    \n",
    "    # convert states into 0 to max_size number (15 in this example)\n",
    "    def state_serializer(self, state):\n",
    "        return self.map_y*state[0] + state[1]\n",
    "    \n",
    "    \n",
    "    # take a epsilon greedy action\n",
    "    def take_action(self, current_state):\n",
    "        current_state_serial = self.state_serializer(current_state)\n",
    "        \n",
    "        random_number = np.random.random()\n",
    "        if random_number < self.epsilon:\n",
    "            action = np.random.choice(self.n_actions)\n",
    "        else:\n",
    "            action = np.argmax(self.Q_values[current_state_serial])\n",
    "            \n",
    "        return action\n",
    "    \n",
    "    \n",
    "    # update Q values with the Q learning algorithm equation\n",
    "    def update_Q_value(self, action, current_state, next_state, reward):\n",
    "        current_state_serial = self.state_serializer(current_state)\n",
    "        next_state_serial = self.state_serializer(next_state)\n",
    "        \n",
    "        current_Q_value = self.Q_values[current_state_serial][action]\n",
    "        \n",
    "        max_Q_value_next_state = self.Q_values[next_state_serial][np.argmax(self.Q_values[next_state_serial])]\n",
    "        \n",
    "        new_Q_value = current_Q_value + self.learning_rate * (reward + (self.discount * max_Q_value_next_state) - current_Q_value)\n",
    "                \n",
    "        self.Q_values[current_state_serial][action] = new_Q_value\n",
    "        \n",
    "    \n",
    "    # train the agent and return rewards for the given number of episodes\n",
    "    def train(self):\n",
    "        rewards = np.zeros(self.episodes)\n",
    "        \n",
    "        for episode in range(self.episodes):\n",
    "            reward_sum = 0\n",
    "            current_state = self.environment.reset()\n",
    "            \n",
    "            if episode % 1000 == 0:\n",
    "                print(\"episode: \", episode)\n",
    "\n",
    "            while True :\n",
    "\n",
    "                bestAction = self.take_action(current_state)\n",
    "                next_state, reward, done, _ = environment.step(bestAction)\n",
    "                self.update_Q_value(bestAction, current_state, next_state, reward)\n",
    "                reward_sum += reward\n",
    "                current_state = next_state         \n",
    "\n",
    "                if done:\n",
    "                    break\n",
    "            rewards[episode] = reward_sum\n",
    "            \n",
    "        return rewards\n",
    "       \n",
    "\n",
    "    # print and return policy (greedy policy based on Q values)    \n",
    "    def print_policy(self):\n",
    "        ACTIONS = [\"LEFT\",\"DOWN\",\"RIGHT\",\"UP\"]\n",
    "\n",
    "        policy = []\n",
    "        policy_str = []\n",
    "        \n",
    "        for i in range(len(self.Q_values)-1):\n",
    "            best_Q_value_index = np.argmax(self.Q_values[i])\n",
    "            policy.append(best_Q_value_index)\n",
    "            action = ACTIONS[best_Q_value_index]\n",
    "            policy_str.append(action)\n",
    "            \n",
    "            \n",
    "            print(i)\n",
    "            print(self.Q_values[i]) \n",
    "            print(\"Best Action: \", action)\n",
    "            print(\"------------------------------------------------\")\n",
    "            \n",
    "        return policy, policy_str"
   ]
  },
  {
   "cell_type": "markdown",
   "metadata": {
    "id": "c6J4uXQGuTgs"
   },
   "source": [
    "## <h2><font color=indigo> Q Values\n",
    "Return the Q values that your agent learns in here:"
   ]
  },
  {
   "cell_type": "code",
   "execution_count": 8,
   "metadata": {
    "id": "WYZfiWY6qMch"
   },
   "outputs": [
    {
     "name": "stdout",
     "output_type": "stream",
     "text": [
      "episode:  0\n",
      "episode:  1000\n",
      "episode:  2000\n",
      "episode:  3000\n",
      "episode:  4000\n",
      "episode:  5000\n",
      "episode:  6000\n",
      "episode:  7000\n",
      "episode:  8000\n",
      "episode:  9000\n"
     ]
    }
   ],
   "source": [
    "agent = Q_Learning('TohidAbedini', environment, 0.9 , learning_rate = 0.5 , epsilon = 0.1 ,episodes= 10000)\n",
    "rewards = agent.train()"
   ]
  },
  {
   "cell_type": "code",
   "execution_count": 9,
   "metadata": {},
   "outputs": [
    {
     "name": "stdout",
     "output_type": "stream",
     "text": [
      "[[ 13.70515567   7.37033088  28.10390392  13.14911339]\n",
      " [ 24.42368561  32.24413359  25.34301237  24.30341345]\n",
      " [ 21.11669674  36.59580701  22.99295873  20.08096529]\n",
      " [ 21.70413141  38.81742183  21.48290076  18.8321704 ]\n",
      " [ -2.25152193 -16.12164378  -3.66850854  21.97106096]\n",
      " [  3.68028756  28.48612088  37.3236556   24.62394401]\n",
      " [ 28.22934168  38.40246758  43.1850065   28.3694297 ]\n",
      " [ 37.57580764  47.52399965  27.30996484  17.40141147]\n",
      " [ -8.25        -0.75        -8.11924869  -5.31431566]\n",
      " [ -8.          -3.62616841  44.74685149   0.        ]\n",
      " [ 25.09283286  31.87058496  47.52785462  37.46202284]\n",
      " [ 39.36525935  55.66096984  51.70663689  45.31168069]\n",
      " [ -0.5         -0.5         -0.5         -8.3375    ]\n",
      " [ 14.6570507    0.           0.           0.        ]\n",
      " [ -1.50306334  19.81168703  27.24205587  32.34964151]\n",
      " [  0.           0.           0.           0.        ]]\n"
     ]
    }
   ],
   "source": [
    "Q = agent.Q_values\n",
    "print(Q)"
   ]
  },
  {
   "cell_type": "code",
   "execution_count": 10,
   "metadata": {},
   "outputs": [
    {
     "name": "stdout",
     "output_type": "stream",
     "text": [
      "\n",
      "------------------------------\n",
      "| 0.000 | 0.001 | 0.293 | 0.680 | \n",
      "------------------------------\n",
      "| 0.736 | 0.001 | 0.001 | 0.001 | \n",
      "------------------------------\n",
      "| 0.693 | 0.892 | 0.218 | 0.001 | \n",
      "------------------------------\n",
      "| 0.465 | 0.918 | 0.318 | \u001b[44m0.000\u001b[0m | \n",
      "------------------------------\n"
     ]
    }
   ],
   "source": [
    "environment.render()"
   ]
  },
  {
   "cell_type": "markdown",
   "metadata": {},
   "source": [
    "## <h2><font color=blue> Rewards\n",
    "Plot average cumulative rewards rewards"
   ]
  },
  {
   "cell_type": "code",
   "execution_count": 29,
   "metadata": {},
   "outputs": [],
   "source": [
    "# cumulative sum of a given array\n",
    "def array_to_cumulative(array):\n",
    "    out = np.zeros(len(array))\n",
    "    for i in range(len(array)):\n",
    "        if i == 0 :\n",
    "            out[i] = array[0]\n",
    "        else:\n",
    "            out[i] = array[:i].mean()\n",
    "    return out\n",
    "\n",
    "\n",
    "# plot rewatds\n",
    "def plot_rewards(rewards, to_cum=True, limit=False, bottom=-3, top=8, ylabel=\"Reward of episode\"):\n",
    "    plt.figure(figsize=(15, 8))\n",
    "    xticks = len(rewards)\n",
    "    \n",
    "    if to_cum:\n",
    "        rewards = array_to_cumulative(rewards)\n",
    "        \n",
    "    plt.plot(range(1,xticks+1), rewards)\n",
    "    if limit:\n",
    "        plt.ylim(top=top)\n",
    "        plt.ylim(bottom=bottom)\n",
    "            \n",
    "    plt.xlabel(\"Episodes\")\n",
    "    plt.ylabel(ylabel)\n",
    "\n",
    "    plt.show()"
   ]
  },
  {
   "cell_type": "code",
   "execution_count": 30,
   "metadata": {},
   "outputs": [
    {
     "data": {
      "image/png": "[encoded data removed]",
      "text/plain": [
       "<Figure size 1080x576 with 1 Axes>"
      ]
     },
     "metadata": {
      "needs_background": "light"
     },
     "output_type": "display_data"
    }
   ],
   "source": [
    "plot_rewards(rewards)"
   ]
  },
  {
   "cell_type": "markdown",
   "metadata": {
    "id": "MMojYRGVvAXk"
   },
   "source": [
    "## <h2><font color=darkcyan> Policy\n",
    "Return the optimal policy that your agent learns in here:"
   ]
  },
  {
   "cell_type": "code",
   "execution_count": 31,
   "metadata": {
    "id": "9EFY3T0r9OHW"
   },
   "outputs": [
    {
     "name": "stdout",
     "output_type": "stream",
     "text": [
      "0\n",
      "[13.70515567  7.37033088 28.10390392 13.14911339]\n",
      "Best Action:  RIGHT\n",
      "------------------------------------------------\n",
      "1\n",
      "[24.42368561 32.24413359 25.34301237 24.30341345]\n",
      "Best Action:  DOWN\n",
      "------------------------------------------------\n",
      "2\n",
      "[21.11669674 36.59580701 22.99295873 20.08096529]\n",
      "Best Action:  DOWN\n",
      "------------------------------------------------\n",
      "3\n",
      "[21.70413141 38.81742183 21.48290076 18.8321704 ]\n",
      "Best Action:  DOWN\n",
      "------------------------------------------------\n",
      "4\n",
      "[ -2.25152193 -16.12164378  -3.66850854  21.97106096]\n",
      "Best Action:  UP\n",
      "------------------------------------------------\n",
      "5\n",
      "[ 3.68028756 28.48612088 37.3236556  24.62394401]\n",
      "Best Action:  RIGHT\n",
      "------------------------------------------------\n",
      "6\n",
      "[28.22934168 38.40246758 43.1850065  28.3694297 ]\n",
      "Best Action:  RIGHT\n",
      "------------------------------------------------\n",
      "7\n",
      "[37.57580764 47.52399965 27.30996484 17.40141147]\n",
      "Best Action:  DOWN\n",
      "------------------------------------------------\n",
      "8\n",
      "[-8.25       -0.75       -8.11924869 -5.31431566]\n",
      "Best Action:  DOWN\n",
      "------------------------------------------------\n",
      "9\n",
      "[-8.         -3.62616841 44.74685149  0.        ]\n",
      "Best Action:  RIGHT\n",
      "------------------------------------------------\n",
      "10\n",
      "[25.09283286 31.87058496 47.52785462 37.46202284]\n",
      "Best Action:  RIGHT\n",
      "------------------------------------------------\n",
      "11\n",
      "[39.36525935 55.66096984 51.70663689 45.31168069]\n",
      "Best Action:  DOWN\n",
      "------------------------------------------------\n",
      "12\n",
      "[-0.5    -0.5    -0.5    -8.3375]\n",
      "Best Action:  LEFT\n",
      "------------------------------------------------\n",
      "13\n",
      "[14.6570507  0.         0.         0.       ]\n",
      "Best Action:  LEFT\n",
      "------------------------------------------------\n",
      "14\n",
      "[-1.50306334 19.81168703 27.24205587 32.34964151]\n",
      "Best Action:  UP\n",
      "------------------------------------------------\n"
     ]
    }
   ],
   "source": [
    "policy, policy_str = agent.print_policy()"
   ]
  }
 ],
 "metadata": {
  "colab": {
   "collapsed_sections": [],
   "name": "StudentName__HW5.ipynb",
   "provenance": []
  },
  "kernelspec": {
   "display_name": "Python 3",
   "language": "python",
   "name": "python3"
  },
  "language_info": {
   "codemirror_mode": {
    "name": "ipython",
    "version": 3
   },
   "file_extension": ".py",
   "mimetype": "text/x-python",
   "name": "python",
   "nbconvert_exporter": "python",
   "pygments_lexer": "ipython3",
   "version": "3.8.12"
  }
 },
 "nbformat": 4,
 "nbformat_minor": 1
}
