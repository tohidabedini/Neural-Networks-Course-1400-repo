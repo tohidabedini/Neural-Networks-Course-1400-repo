{
 "cells": [
  {
   "cell_type": "code",
   "execution_count": 1,
   "id": "d6485965",
   "metadata": {},
   "outputs": [],
   "source": [
    "def map_input_to_bool(question):\n",
    "    answer = \"\"\n",
    "    while answer not in [\"yes\", \"no\"]:\n",
    "        answer = input(question+ \" (yes/no): \")\n",
    "        if answer not in [\"yes\", \"no\"]:\n",
    "            print(\"Please only type yes/no\")\n",
    "        \n",
    "    if answer==\"yes\":\n",
    "        return True\n",
    "    elif answer==\"no\":\n",
    "        return False"
   ]
  },
  {
   "cell_type": "code",
   "execution_count": 6,
   "id": "df27f2ed",
   "metadata": {},
   "outputs": [],
   "source": [
    "def main_function():\n",
    "    if map_input_to_bool(\"Does he have black skin?\"): #1 2 3 7 9 10\n",
    "        if map_input_to_bool(\"Is his shoe's size 42?\"): #1 2 \n",
    "            if map_input_to_bool(\"Is his height 180?\"):\n",
    "                return 1\n",
    "            else:\n",
    "                return 2\n",
    " \n",
    "        else: #3 7 9 10\n",
    "            if map_input_to_bool(\"Is his weight 90?\"):\n",
    "                return 3\n",
    "            else:\n",
    "                if map_input_to_bool(\"Is his weight 80?\"):\n",
    "                    return 7\n",
    "                else:\n",
    "                    if map_input_to_bool(\"Is his weight 40?\"):\n",
    "                        return 9\n",
    "                    else:\n",
    "                        if map_input_to_bool(\"Is his weight 70?\"):\n",
    "                            return 10\n",
    "    else: #4 5 6 8   \n",
    "        if map_input_to_bool(\"Is his shoe's size 41?\"): #6 8 \n",
    "            if map_input_to_bool(\"Is his hair color black?\"):\n",
    "                return 6\n",
    "            else:\n",
    "                return 8\n",
    "        else: # 4 5 \n",
    "            if map_input_to_bool(\"Is his hair color black?\"):\n",
    "                return 4\n",
    "            else:\n",
    "                return 5"
   ]
  },
  {
   "cell_type": "code",
   "execution_count": 17,
   "id": "ad3fc221",
   "metadata": {},
   "outputs": [
    {
     "name": "stdout",
     "output_type": "stream",
     "text": [
      "Does he have black skin? (yes/no): no\n",
      "Is his shoe's size 41? (yes/no): yes\n",
      "Is his hair color black? (yes/no): no\n",
      "8\n"
     ]
    }
   ],
   "source": [
    "print(main_function())"
   ]
  }
 ],
 "metadata": {
  "kernelspec": {
   "display_name": "Python 3",
   "language": "python",
   "name": "python3"
  },
  "language_info": {
   "codemirror_mode": {
    "name": "ipython",
    "version": 3
   },
   "file_extension": ".py",
   "mimetype": "text/x-python",
   "name": "python",
   "nbconvert_exporter": "python",
   "pygments_lexer": "ipython3",
   "version": "3.7.9"
  }
 },
 "nbformat": 4,
 "nbformat_minor": 5
}
