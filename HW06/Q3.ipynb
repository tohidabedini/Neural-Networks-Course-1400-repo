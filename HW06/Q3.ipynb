{
 "cells": [
  {
   "cell_type": "markdown",
   "id": "8e747879",
   "metadata": {},
   "source": [
    "# References\n",
    "\n",
    "https://github.com/lantunes/mountain-car-continuous\n",
    "\n",
    "https://medium.com/@asteinbach/actor-critic-using-deep-rl-continuous-mountain-car-in-tensorflow-4c1fb2110f7c only used for finding the exact values of points in the env from the first figure in the site\n",
    "\n",
    "https://gym.openai.com/docs/\n",
    "\n",
    "https://github.com/openai/gym/blob/master/gym/envs/classic_control/continuous_mountain_car.py"
   ]
  },
  {
   "cell_type": "markdown",
   "id": "a1f1f42d",
   "metadata": {},
   "source": [
    "# Imports"
   ]
  },
  {
   "cell_type": "code",
   "execution_count": 41,
   "id": "2ba9cabe",
   "metadata": {},
   "outputs": [],
   "source": [
    "import gym\n",
    "import numpy as np\n",
    "import skfuzzy as fuzz\n",
    "from skfuzzy import control as ctrl\n",
    "import matplotlib.pyplot as plt\n",
    "\n",
    "%matplotlib inline \n",
    "\n",
    "import warnings\n",
    "warnings.filterwarnings('ignore')"
   ]
  },
  {
   "cell_type": "markdown",
   "id": "40e57f11",
   "metadata": {},
   "source": [
    "# Fuzzy Controller"
   ]
  },
  {
   "cell_type": "code",
   "execution_count": 42,
   "id": "9daee65c",
   "metadata": {},
   "outputs": [],
   "source": [
    "# Fuzzy Inputs & Outputs definition\n",
    "def create_fuzzy_input_output():\n",
    "    x = ctrl.Antecedent(np.arange(-1.2, 0.6+0.1, 0.1), 'x')\n",
    "    speed = ctrl.Antecedent(np.arange(-0.07, 0.07, 0.01), 'speed')\n",
    "    action = ctrl.Consequent(np.arange(-1, 1+0.1, 0.1), 'action')\n",
    "    \n",
    "    names = ['VL', 'L', 'M', 'H', 'VH']\n",
    "    names_x = ['X1', 'X2', 'X3', 'X4', 'X5', 'X6']\n",
    "    x.automf(names = names_x)\n",
    "    speed.automf(names = names)\n",
    "    action.automf(names = names)\n",
    "\n",
    "    return x, speed, action\n",
    "\n",
    "\n",
    "# Define rules\n",
    "def fuzzy_rules():\n",
    "    x, speed, action = create_fuzzy_input_output()\n",
    "    \n",
    "    rules = [\n",
    "        ctrl.Rule((x['X1'] | x['X2']) , action['VH']),\n",
    "        ctrl.Rule((x['X3']) & (speed['L'] | speed['VL']), action['VL']),\n",
    "        ctrl.Rule((x['X3']) & (speed['H'] | speed['VH']), action['VH']),\n",
    "        ctrl.Rule((x['X4']) & (speed['L'] | speed['VL']), action['VL']),\n",
    "        ctrl.Rule((x['X4']) & (speed['H'] | speed['VH']), action['VH']),\n",
    "        ctrl.Rule((x['X5']), action['VH']),\n",
    "    ]\n",
    "    \n",
    "    return rules\n",
    "\n",
    "\n",
    "# Controller Design\n",
    "def controller_design(rules):\n",
    "    # Define the control system\n",
    "    speeding_ctrl = ctrl.ControlSystem(rules)\n",
    "    \n",
    "    # Simulation object of controlsystem for representation and simulating\n",
    "    speeding = ctrl.ControlSystemSimulation(speeding_ctrl)\n",
    "    \n",
    "    return speeding\n",
    "\n",
    "\n",
    "rules = fuzzy_rules()\n",
    "speeding = controller_design(rules)\n",
    "\n",
    "# Final controller agent\n",
    "def control_agent(state, agent=speeding):\n",
    "    x, speed = state[0], state[1]\n",
    "    \n",
    "    agent.input['x'] = x\n",
    "    agent.input['speed'] = speed\n",
    "\n",
    "    agent.compute()\n",
    "\n",
    "    return [agent.output['action']]"
   ]
  },
  {
   "cell_type": "code",
   "execution_count": 44,
   "id": "67ec86d8",
   "metadata": {},
   "outputs": [],
   "source": [
    "# View membership diagrams\n",
    "\n",
    "x, speed, action = create_fuzzy_input_output()\n",
    "\n",
    "# x.view();\n",
    "# speed.view();\n",
    "# action.view();\n",
    "# action.universe"
   ]
  },
  {
   "cell_type": "markdown",
   "id": "fd14d47d",
   "metadata": {},
   "source": [
    "# Gym Env"
   ]
  },
  {
   "cell_type": "code",
   "execution_count": 45,
   "id": "dc944314",
   "metadata": {},
   "outputs": [],
   "source": [
    "env = gym.envs.make(\"MountainCarContinuous-v0\")\n",
    "\n",
    "MAX_EPISODES = 20\n",
    "MAX_STEPS = 200"
   ]
  },
  {
   "cell_type": "code",
   "execution_count": 46,
   "id": "7cda8ea8",
   "metadata": {},
   "outputs": [],
   "source": [
    "# Final function to render to env and take actions\n",
    "def env_render(env, control_agent, MAX_STEPS=MAX_STEPS, MAX_EPISODES=MAX_EPISODES, render=True):\n",
    "    \n",
    "    for episode_counter in range(MAX_EPISODES):\n",
    "        state = env.reset()\n",
    "        total_rewards = 0\n",
    "        rewards = []\n",
    "        done = False\n",
    "\n",
    "        for step_counter in range(MAX_STEPS):\n",
    "\n",
    "            if render:\n",
    "                env.render()\n",
    "            action = control_agent(state)\n",
    "            next_state, reward, done, _ = env.step(action)\n",
    "#             print(reward)\n",
    "#             print(next_state)\n",
    "            total_rewards += reward\n",
    "            rewards.append(reward)\n",
    "\n",
    "            state = next_state\n",
    "            if done:\n",
    "                break\n",
    "                \n",
    "        print(\"episode number:{}, total_reward:{:.2f}, step_counter:{}\".format(episode_counter, total_rewards, step_counter))\n",
    "                \n",
    "        if done:\n",
    "            env.close()\n",
    "            break\n",
    "            \n",
    "    env.close()\n",
    "    return rewards, total_rewards"
   ]
  },
  {
   "cell_type": "code",
   "execution_count": 47,
   "id": "544fe39c",
   "metadata": {},
   "outputs": [
    {
     "name": "stdout",
     "output_type": "stream",
     "text": [
      "episode number:0, total_reward:93.52, step_counter:109\n"
     ]
    }
   ],
   "source": [
    "rewards, total_rewards = env_render(env, control_agent, MAX_STEPS=MAX_STEPS, MAX_EPISODES=MAX_EPISODES, render=True)"
   ]
  },
  {
   "cell_type": "markdown",
   "id": "cc2ce5b9",
   "metadata": {},
   "source": [
    "# Plot rewards"
   ]
  },
  {
   "cell_type": "code",
   "execution_count": 48,
   "id": "839b098c",
   "metadata": {},
   "outputs": [],
   "source": [
    "# plot rewatds\n",
    "def plot_rewards(rewards, limit=False, bottom=-3, top=8, ylabel=\"Rewards of steps\"):\n",
    "    plt.figure(figsize=(15, 8))\n",
    "    xticks = len(rewards)\n",
    "            \n",
    "    plt.plot(range(1,xticks+1), rewards)\n",
    "    if limit:\n",
    "        plt.ylim(top=top)\n",
    "        plt.ylim(bottom=bottom)\n",
    "            \n",
    "    plt.xlabel(\"Steps\")\n",
    "    plt.ylabel(ylabel)\n",
    "\n",
    "    plt.show()"
   ]
  },
  {
   "cell_type": "code",
   "execution_count": 49,
   "id": "81c99853",
   "metadata": {},
   "outputs": [
    {
     "data": {
      "image/png": "[encoded data removed]",
      "text/plain": [
       "<Figure size 1080x576 with 1 Axes>"
      ]
     },
     "metadata": {
      "needs_background": "light"
     },
     "output_type": "display_data"
    }
   ],
   "source": [
    "# Without final reward\n",
    "plot_rewards(rewards[:-1])"
   ]
  },
  {
   "cell_type": "code",
   "execution_count": 50,
   "id": "f68145b8",
   "metadata": {},
   "outputs": [
    {
     "data": {
      "image/png": "[encoded data removed]",
      "text/plain": [
       "<Figure size 1080x576 with 1 Axes>"
      ]
     },
     "metadata": {
      "needs_background": "light"
     },
     "output_type": "display_data"
    }
   ],
   "source": [
    "# With final reward\n",
    "plot_rewards(rewards)"
   ]
  },
  {
   "cell_type": "code",
   "execution_count": 51,
   "id": "6903310e",
   "metadata": {
    "scrolled": true
   },
   "outputs": [
    {
     "data": {
      "text/plain": [
       "93.52344311869287"
      ]
     },
     "execution_count": 51,
     "metadata": {},
     "output_type": "execute_result"
    }
   ],
   "source": [
    "# total_rewards value\n",
    "total_rewards"
   ]
  },
  {
   "cell_type": "code",
   "execution_count": null,
   "id": "ae2709ac",
   "metadata": {},
   "outputs": [],
   "source": []
  }
 ],
 "metadata": {
  "kernelspec": {
   "display_name": "Python 3",
   "language": "python",
   "name": "python3"
  },
  "language_info": {
   "codemirror_mode": {
    "name": "ipython",
    "version": 3
   },
   "file_extension": ".py",
   "mimetype": "text/x-python",
   "name": "python",
   "nbconvert_exporter": "python",
   "pygments_lexer": "ipython3",
   "version": "3.7.9"
  }
 },
 "nbformat": 4,
 "nbformat_minor": 5
}
