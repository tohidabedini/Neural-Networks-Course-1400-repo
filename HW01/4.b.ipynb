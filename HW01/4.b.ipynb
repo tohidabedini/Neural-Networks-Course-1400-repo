{
 "cells": [
  {
   "cell_type": "markdown",
   "metadata": {
    "id": "yvv-XLiPwfLW"
   },
   "source": [
    "## HW1: Train a perceptron model\n",
    "\n",
    "In this homework, you will train a perceptron model with a simple dataset.\n",
    "\n",
    "**Notes:** \n",
    "- When you submit your assignment, the output of every cell should be visible.\n",
    "- You are not eligible to change any parts of the code except the predefined sections.\n",
    "- You can add your implementation only in the predefined sections.\n",
    "\n"
   ]
  },
  {
   "cell_type": "code",
   "execution_count": 51,
   "metadata": {
    "id": "PoXhybs4xWPq"
   },
   "outputs": [],
   "source": [
    "#@title Student Information\n",
    "#@markdown Enter the following info and run the cell:\n",
    "Name = \"Tohid Abedini\" #@param {type:\"string\"}\n",
    "StudentNumber =  99722153 #@param {type:\"integer\"}"
   ]
  },
  {
   "cell_type": "code",
   "execution_count": 52,
   "metadata": {
    "id": "JDV5rqoGv9Dd"
   },
   "outputs": [],
   "source": [
    "import numpy as np\n",
    "import matplotlib.pyplot as plt\n",
    "import pandas as pd\n",
    "\n",
    "%matplotlib inline"
   ]
  },
  {
   "cell_type": "markdown",
   "metadata": {
    "id": "gw3I0lkI_PmX"
   },
   "source": [
    "## Load Dataset"
   ]
  },
  {
   "cell_type": "code",
   "execution_count": 53,
   "metadata": {
    "id": "pN3Ybb3-xqPt"
   },
   "outputs": [],
   "source": [
    "################################\n",
    "## Change directory to the folder of the dataset\n",
    "## For example, if the dataset is in NN/HW1 of your google drive, you should use this code in colab:\n",
    "## cd drive/MyDrive/NN/HW1\n",
    "################################"
   ]
  },
  {
   "cell_type": "code",
   "execution_count": 275,
   "metadata": {
    "id": "TLEVrHrazk29"
   },
   "outputs": [],
   "source": [
    "cd drive/MyDrive/NN"
   ]
  },
  {
   "cell_type": "code",
   "execution_count": 273,
   "metadata": {
    "id": "WswXS9TPzW89"
   },
   "outputs": [
    {
     "name": "stdout",
     "output_type": "stream",
     "text": [
      "/e/uni/Master/3/NN/HW/HW01\n"
     ]
    }
   ],
   "source": [
    "pwd"
   ]
  },
  {
   "cell_type": "code",
   "execution_count": 56,
   "metadata": {
    "id": "ckmhddZ4zOSd"
   },
   "outputs": [],
   "source": [
    "## Load the dataset\n",
    "dataset = pd.read_csv(\"dataset.csv\")"
   ]
  },
  {
   "cell_type": "code",
   "execution_count": 57,
   "metadata": {
    "id": "Zfg93qtIzzQT"
   },
   "outputs": [
    {
     "name": "stdout",
     "output_type": "stream",
     "text": [
      "<class 'pandas.core.frame.DataFrame'>\n",
      "RangeIndex: 500 entries, 0 to 499\n",
      "Data columns (total 3 columns):\n",
      " #   Column  Non-Null Count  Dtype  \n",
      "---  ------  --------------  -----  \n",
      " 0   x1      500 non-null    float64\n",
      " 1   x2      500 non-null    float64\n",
      " 2   y       500 non-null    int64  \n",
      "dtypes: float64(2), int64(1)\n",
      "memory usage: 11.8 KB\n"
     ]
    }
   ],
   "source": [
    "## Dataset info\n",
    "dataset.info()"
   ]
  },
  {
   "cell_type": "code",
   "execution_count": 58,
   "metadata": {
    "id": "jixj9QV7z4AH"
   },
   "outputs": [
    {
     "data": {
      "text/html": [
       "<div>\n",
       "<style scoped>\n",
       "    .dataframe tbody tr th:only-of-type {\n",
       "        vertical-align: middle;\n",
       "    }\n",
       "\n",
       "    .dataframe tbody tr th {\n",
       "        vertical-align: top;\n",
       "    }\n",
       "\n",
       "    .dataframe thead th {\n",
       "        text-align: right;\n",
       "    }\n",
       "</style>\n",
       "<table border=\"1\" class=\"dataframe\">\n",
       "  <thead>\n",
       "    <tr style=\"text-align: right;\">\n",
       "      <th></th>\n",
       "      <th>x1</th>\n",
       "      <th>x2</th>\n",
       "      <th>y</th>\n",
       "    </tr>\n",
       "  </thead>\n",
       "  <tbody>\n",
       "    <tr>\n",
       "      <th>0</th>\n",
       "      <td>2.780914</td>\n",
       "      <td>3.649500</td>\n",
       "      <td>0</td>\n",
       "    </tr>\n",
       "    <tr>\n",
       "      <th>1</th>\n",
       "      <td>0.649471</td>\n",
       "      <td>4.428423</td>\n",
       "      <td>0</td>\n",
       "    </tr>\n",
       "    <tr>\n",
       "      <th>2</th>\n",
       "      <td>-3.393311</td>\n",
       "      <td>-1.439415</td>\n",
       "      <td>1</td>\n",
       "    </tr>\n",
       "    <tr>\n",
       "      <th>3</th>\n",
       "      <td>3.007704</td>\n",
       "      <td>2.896864</td>\n",
       "      <td>0</td>\n",
       "    </tr>\n",
       "    <tr>\n",
       "      <th>4</th>\n",
       "      <td>-3.745867</td>\n",
       "      <td>1.894699</td>\n",
       "      <td>1</td>\n",
       "    </tr>\n",
       "  </tbody>\n",
       "</table>\n",
       "</div>"
      ],
      "text/plain": [
       "         x1        x2  y\n",
       "0  2.780914  3.649500  0\n",
       "1  0.649471  4.428423  0\n",
       "2 -3.393311 -1.439415  1\n",
       "3  3.007704  2.896864  0\n",
       "4 -3.745867  1.894699  1"
      ]
     },
     "execution_count": 58,
     "metadata": {},
     "output_type": "execute_result"
    }
   ],
   "source": [
    "## See the five first rows of the dataset.\n",
    "dataset.head()"
   ]
  },
  {
   "cell_type": "code",
   "execution_count": 59,
   "metadata": {
    "id": "3X_fHonUz-pY"
   },
   "outputs": [
    {
     "data": {
      "text/plain": [
       "Text(0.5, 1.0, 'Random Classification Data with 2 classes')"
      ]
     },
     "execution_count": 59,
     "metadata": {},
     "output_type": "execute_result"
    },
    {
     "data": {
      "image/png": "[encoded data removed]",
      "text/plain": [
       "<Figure size 720x576 with 1 Axes>"
      ]
     },
     "metadata": {
      "needs_background": "light"
     },
     "output_type": "display_data"
    }
   ],
   "source": [
    "## Plot the dataset\n",
    "X = dataset.drop([\"y\"], axis=1).values\n",
    "y = dataset[\"y\"].values\n",
    "\n",
    "fig = plt.figure(figsize=(10,8))\n",
    "plt.plot(X[:, 0][y == 0], X[:, 1][y == 0], 'r^')\n",
    "plt.plot(X[:, 0][y == 1], X[:, 1][y == 1], 'bs')\n",
    "plt.xlabel(\"feature 1\")\n",
    "plt.ylabel(\"feature 2\")\n",
    "plt.title('Random Classification Data with 2 classes')"
   ]
  },
  {
   "cell_type": "code",
   "execution_count": null,
   "metadata": {
    "id": "_nT9562pv7-m"
   },
   "outputs": [],
   "source": []
  },
  {
   "cell_type": "markdown",
   "metadata": {
    "id": "d5JYkwuO492n"
   },
   "source": [
    "## Implement the algorithm\n",
    "\n",
    "You have two weights and one bias. Let's call them w1 and w2 and b. Your have to code a simple gradient descent algorithm for updating these parameters. "
   ]
  },
  {
   "cell_type": "code",
   "execution_count": 116,
   "metadata": {
    "id": "bQW2mLjQ55ol"
   },
   "outputs": [],
   "source": [
    "## Initialization of the parameters.\n",
    "w1 = 0\n",
    "w2 = 0\n",
    "b = 0"
   ]
  },
  {
   "cell_type": "code",
   "execution_count": 117,
   "metadata": {
    "id": "XhQM42m5vW0F"
   },
   "outputs": [],
   "source": [
    "def step_function(x):\n",
    "    return np.where(x >= 0, 1, 0)\n",
    "#     if x>=0:\n",
    "#         return 1\n",
    "#     else:\n",
    "#         return 0\n",
    "\n",
    "def calculate_output(X, w1, w2, b):\n",
    "  ##############################################\n",
    "    ## code here\n",
    "    ## y_out is the output of your neuron.\n",
    "    ## First, you should implement this formula: y_out = w1 * x1 + w2 * x2 + b\n",
    "    ## please be careful to calculate this formula for all of the 500 data\n",
    "    ## Second, you should implement a Unit Step function as an activation function for each element of the y_out\n",
    "    ## the y_out should be an array with a length of 500.\n",
    "  ##############################################\n",
    "  y_out = step_function(w1 * X[:,0] + w2 * X[:,1] + b)\n",
    "  return y_out"
   ]
  },
  {
   "cell_type": "code",
   "execution_count": 118,
   "metadata": {
    "id": "aPFT9uGD6lot"
   },
   "outputs": [
    {
     "name": "stdout",
     "output_type": "stream",
     "text": [
      "in epoch :  0  errors :  250\n",
      "in epoch :  1  errors :  93\n",
      "in epoch :  2  errors :  6\n",
      "in epoch :  3  errors :  5\n",
      "in epoch :  4  errors :  4\n",
      "in epoch :  5  errors :  4\n",
      "in epoch :  6  errors :  3\n",
      "in epoch :  7  errors :  3\n",
      "in epoch :  8  errors :  3\n",
      "in epoch :  9  errors :  3\n",
      "in epoch :  10  errors :  3\n",
      "in epoch :  11  errors :  3\n",
      "in epoch :  12  errors :  3\n",
      "in epoch :  13  errors :  2\n",
      "in epoch :  14  errors :  2\n",
      "in epoch :  15  errors :  2\n",
      "in epoch :  16  errors :  2\n",
      "in epoch :  17  errors :  2\n",
      "in epoch :  18  errors :  2\n",
      "in epoch :  19  errors :  2\n",
      "w1 :  -79.3918783365076 w2 :  -73.05256200885528 b :  -10.29999999999998\n"
     ]
    }
   ],
   "source": [
    "## implement the gradient descent algorithm\n",
    "lr = 0.1\n",
    "num_epochs = 20\n",
    "\n",
    "\n",
    "for i in range(num_epochs):\n",
    "  y_out = calculate_output(X, w1, w2, b)\n",
    "  errors = 0\n",
    "  for j in range(X.shape[0]):\n",
    "    if y[j] != y_out[j] :\n",
    "      errors += 1\n",
    "    ######################################\n",
    "    ## code here\n",
    "    ## implement the code for updating each parameter\n",
    "    ######################################\n",
    "    b  = b  + lr * (y[j] - y_out[j])\n",
    "    w1 = w1 + lr * (y[j] - y_out[j]) * X[:,0][j]\n",
    "    w2 = w2 + lr * (y[j] - y_out[j]) * X[:,1][j]\n",
    "\n",
    "  print(\"in epoch : \", i, \" errors : \", errors)\n",
    "\n",
    "print(\"w1 : \", w1, \"w2 : \", w2, \"b : \", b)"
   ]
  },
  {
   "cell_type": "code",
   "execution_count": null,
   "metadata": {
    "id": "9D39OpfOM514"
   },
   "outputs": [],
   "source": []
  },
  {
   "cell_type": "code",
   "execution_count": 119,
   "metadata": {
    "id": "YBC2LWY2BmDX"
   },
   "outputs": [
    {
     "data": {
      "text/plain": [
       "[<matplotlib.lines.Line2D at 0x189e9aa54c8>]"
      ]
     },
     "execution_count": 119,
     "metadata": {},
     "output_type": "execute_result"
    },
    {
     "data": {
      "image/png": "[encoded data removed]",
      "text/plain": [
       "<Figure size 720x576 with 1 Axes>"
      ]
     },
     "metadata": {
      "needs_background": "light"
     },
     "output_type": "display_data"
    }
   ],
   "source": [
    "## Plot the result\n",
    "x1 = [min(X[:,0]), max(X[:,0])]\n",
    "m = -w1/w2\n",
    "c = -b/w2\n",
    "x2 = np.dot(m, x1) + c\n",
    "    \n",
    "fig = plt.figure(figsize=(10,8))\n",
    "plt.plot(X[:, 0][y==0], X[:, 1][y==0], \"r^\")\n",
    "plt.plot(X[:, 0][y==1], X[:, 1][y==1], \"bs\")\n",
    "plt.xlabel(\"feature 1\")\n",
    "plt.ylabel(\"feature 2\")\n",
    "plt.title('Perceptron Algorithm')\n",
    "plt.plot(x1, x2, 'y-')"
   ]
  },
  {
   "cell_type": "markdown",
   "metadata": {
    "id": "tQtAkETRNltB"
   },
   "source": [
    "## Bonus Section\n",
    "Explain learning rate decay and different methods for that.\n",
    "Also, implement one of the methods of learning decay on the implemented code."
   ]
  },
  {
   "cell_type": "markdown",
   "metadata": {},
   "source": [
    "source:\n",
    "\n",
    "https://medium.com/analytics-vidhya/learning-rate-decay-and-methods-in-deep-learning-2cee564f910b"
   ]
  },
  {
   "cell_type": "markdown",
   "metadata": {
    "id": "YBQlY9_W_5K3"
   },
   "source": [
    "It is good to have higher lr at the beginning and then decay it step by step to have lower lr in the next epochs.\n",
    "\n",
    "Because we can make it to find better seperation line (answer) and move more accurately in the last steps insteas of rapid moves which are not effective in the improvement of the answer. It is known as lr decay."
   ]
  },
  {
   "cell_type": "markdown",
   "metadata": {},
   "source": [
    "### Different methods of decays are:\n",
    "\n",
    "#### 1.Learning rate decay (common method):\n",
    "α=(1/(1+decayRate×epochNumber))*α0 \n",
    "\n",
    "1 epoch : 1 pass through data\n",
    "\n",
    "α : learning rate (current iteration)\n",
    "\n",
    "α0 : Initial learning rate\n",
    "\n",
    "decayRate : hyper-parameter for the method\n",
    "    \n",
    "    \n",
    "#### 2.Exponential Decay:\n",
    "α = ( decayRate^(epochNumber) )*α0\n",
    "\n",
    "\n",
    "#### 3.Discrete Staircase:\n",
    "\n",
    "In this method learning rate is decreased in some discrete steps after every certain interval of time , for example you are reducing learning rate to its half after every 10 secs.\n",
    "\n",
    "#### 4.Epoch Number Based:\n",
    "\n",
    "α = ( k/ √epochNumber )* α0\n",
    "\n",
    "In this method we take some constant ‘k’ and divide it with square root of epoch number.\n",
    "\n",
    "#### 5.Mini-batch Number based:\n",
    "\n",
    "α = ( k/ √t)* α0\n",
    "\n",
    "In this method we take some constant ‘k’ and divide it with square root of Mini-Batch number. (This method is only used for Mini Batch Gradient Descent.)\n",
    "\n",
    "#### 6.Manual Decay:\n",
    "In this method practitioners manually examine the performance of algorithm and decrease the learning rate manually day by day or hour by hour etc.\n"
   ]
  },
  {
   "cell_type": "code",
   "execution_count": 124,
   "metadata": {},
   "outputs": [],
   "source": [
    "# We use the first method here: Learning rate decay (common method)\n",
    "# learning rate decay\n",
    "def decay_lrate(initial_lrate, decay, iteration):\n",
    "    return initial_lrate * (1.0 / (1.0 + decay * iteration))"
   ]
  },
  {
   "cell_type": "markdown",
   "metadata": {},
   "source": [
    "#### Test the algortihm with the decaying lr"
   ]
  },
  {
   "cell_type": "code",
   "execution_count": 270,
   "metadata": {},
   "outputs": [
    {
     "name": "stdout",
     "output_type": "stream",
     "text": [
      "in epoch :  0  errors :  250\n",
      "in epoch :  1  errors :  93\n",
      "in epoch :  2  errors :  6\n",
      "in epoch :  3  errors :  5\n",
      "in epoch :  4  errors :  4\n",
      "in epoch :  5  errors :  4\n",
      "in epoch :  6  errors :  3\n",
      "in epoch :  7  errors :  3\n",
      "in epoch :  8  errors :  3\n",
      "in epoch :  9  errors :  3\n",
      "in epoch :  10  errors :  3\n",
      "in epoch :  11  errors :  3\n",
      "in epoch :  12  errors :  3\n",
      "in epoch :  13  errors :  3\n",
      "in epoch :  14  errors :  2\n",
      "in epoch :  15  errors :  2\n",
      "in epoch :  16  errors :  2\n",
      "in epoch :  17  errors :  2\n",
      "in epoch :  18  errors :  2\n",
      "in epoch :  19  errors :  2\n",
      "w1 :  -394.406673737436 w2 :  -368.90581270668747 b :  -52.26554544410349\n"
     ]
    }
   ],
   "source": [
    "## Initialization of the parameters.\n",
    "w1 = 0\n",
    "w2 = 0\n",
    "b = 0\n",
    "\n",
    "## implement the gradient descent algorithm with lr decay\n",
    "lr = 0.5\n",
    "num_epochs = 20\n",
    "\n",
    "lr_list = [lr]\n",
    "\n",
    "for i in range(num_epochs):\n",
    "  y_out = calculate_output(X, w1, w2, b)\n",
    "  errors = 0\n",
    "  for j in range(X.shape[0]):\n",
    "    if y[j] != y_out[j] :\n",
    "      errors += 1\n",
    "    ######################################\n",
    "    ## code here\n",
    "    ## implement the code for updating each parameter\n",
    "    ######################################\n",
    "    b  = b  + lr * (y[j] - y_out[j])\n",
    "    w1 = w1 + lr * (y[j] - y_out[j]) * X[:,0][j]\n",
    "    w2 = w2 + lr * (y[j] - y_out[j]) * X[:,1][j]\n",
    "    \n",
    "  lr = decay_lrate(initial_lrate=lr, decay=0.001, iteration=i)\n",
    "  lr_list.append(lr)\n",
    "\n",
    "  print(\"in epoch : \", i, \" errors : \", errors)\n",
    "\n",
    "print(\"w1 : \", w1, \"w2 : \", w2, \"b : \", b)"
   ]
  },
  {
   "cell_type": "code",
   "execution_count": 271,
   "metadata": {},
   "outputs": [
    {
     "data": {
      "image/png": "[encoded data removed]",
      "text/plain": [
       "<Figure size 432x288 with 1 Axes>"
      ]
     },
     "metadata": {
      "needs_background": "light"
     },
     "output_type": "display_data"
    }
   ],
   "source": [
    "plt.plot(lr_list);"
   ]
  },
  {
   "cell_type": "code",
   "execution_count": 272,
   "metadata": {},
   "outputs": [
    {
     "data": {
      "text/plain": [
       "[<matplotlib.lines.Line2D at 0x189ed6b08c8>]"
      ]
     },
     "execution_count": 272,
     "metadata": {},
     "output_type": "execute_result"
    },
    {
     "data": {
      "image/png": "[encoded data removed]",
      "text/plain": [
       "<Figure size 720x576 with 1 Axes>"
      ]
     },
     "metadata": {
      "needs_background": "light"
     },
     "output_type": "display_data"
    }
   ],
   "source": [
    "## Plot the result\n",
    "x1 = [min(X[:,0]), max(X[:,0])]\n",
    "m = -w1/w2\n",
    "c = -b/w2\n",
    "x2 = np.dot(m, x1) + c\n",
    "    \n",
    "fig = plt.figure(figsize=(10,8))\n",
    "plt.plot(X[:, 0][y==0], X[:, 1][y==0], \"r^\")\n",
    "plt.plot(X[:, 0][y==1], X[:, 1][y==1], \"bs\")\n",
    "plt.xlabel(\"feature 1\")\n",
    "plt.ylabel(\"feature 2\")\n",
    "plt.title('Perceptron Algorithm')\n",
    "plt.plot(x1, x2, 'y-')"
   ]
  }
 ],
 "metadata": {
  "colab": {
   "collapsed_sections": [],
   "name": "NN_HW1.ipynb",
   "provenance": []
  },
  "kernelspec": {
   "display_name": "Python 3",
   "language": "python",
   "name": "python3"
  },
  "language_info": {
   "codemirror_mode": {
    "name": "ipython",
    "version": 3
   },
   "file_extension": ".py",
   "mimetype": "text/x-python",
   "name": "python",
   "nbconvert_exporter": "python",
   "pygments_lexer": "ipython3",
   "version": "3.7.9"
  }
 },
 "nbformat": 4,
 "nbformat_minor": 1
}
