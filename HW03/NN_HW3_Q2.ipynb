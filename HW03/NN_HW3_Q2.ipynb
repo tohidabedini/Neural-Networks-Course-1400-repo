{
 "cells": [
  {
   "cell_type": "markdown",
   "metadata": {
    "id": "72oiSUjueFv7"
   },
   "source": [
    "### References"
   ]
  },
  {
   "cell_type": "markdown",
   "metadata": {
    "id": "P7YEuQpfeFwh"
   },
   "source": [
    "https://medium.com/machine-learning-researcher/self-organizing-map-som-c296561e2117\n",
    "\n",
    "https://github.com/JustGlowing/minisom\n",
    "\n",
    "https://www.geeksforgeeks.org/calculate-the-euclidean-distance-using-numpy/\n",
    "\n",
    "https://towardsdatascience.com/kohonen-self-organizing-maps-a29040d688da"
   ]
  },
  {
   "cell_type": "markdown",
   "metadata": {
    "id": "usDI6H3_eFwn"
   },
   "source": [
    "### Imports"
   ]
  },
  {
   "cell_type": "code",
   "execution_count": 3,
   "metadata": {
    "executionInfo": {
     "elapsed": 514,
     "status": "ok",
     "timestamp": 1639007740794,
     "user": {
      "displayName": "Abedini Tohid",
      "photoUrl": "https://lh3.googleusercontent.com/a/default-user=s64",
      "userId": "14592010492783304561"
     },
     "user_tz": -210
    },
    "id": "5_llP3jQeRdp"
   },
   "outputs": [],
   "source": [
    "# !pip install minisom"
   ]
  },
  {
   "cell_type": "code",
   "execution_count": 1,
   "metadata": {
    "executionInfo": {
     "elapsed": 13,
     "status": "ok",
     "timestamp": 1639011005022,
     "user": {
      "displayName": "Abedini Tohid",
      "photoUrl": "https://lh3.googleusercontent.com/a/default-user=s64",
      "userId": "14592010492783304561"
     },
     "user_tz": -210
    },
    "id": "syqSBig7eFwp"
   },
   "outputs": [],
   "source": [
    "import numpy as np\n",
    "import matplotlib.pyplot as plt\n",
    "from minisom import MiniSom    \n",
    "from pylab import bone, pcolor, colorbar, plot, show, legend\n",
    "import time\n",
    "%matplotlib inline"
   ]
  },
  {
   "cell_type": "markdown",
   "metadata": {
    "id": "EfOjjAg8eFxH"
   },
   "source": [
    "### Functions"
   ]
  },
  {
   "cell_type": "code",
   "execution_count": 30,
   "metadata": {
    "executionInfo": {
     "elapsed": 529,
     "status": "ok",
     "timestamp": 1639011576126,
     "user": {
      "displayName": "Abedini Tohid",
      "photoUrl": "https://lh3.googleusercontent.com/a/default-user=s64",
      "userId": "14592010492783304561"
     },
     "user_tz": -210
    },
    "id": "s57zwKAreFxJ"
   },
   "outputs": [],
   "source": [
    "def execution_time_calculator(t0):\n",
    "    print(f\"time is: {time.time() -t0} seconds.\")\n",
    "\n",
    "\n",
    "def gaussian_distance(d, sigma=0.5):\n",
    "    h = np.exp(- np.power(d,2) / (2 * np.power(sigma,2)))\n",
    "    return h\n",
    "\n",
    "\n",
    "# This function is implemented but not used.\n",
    "def mexhat_np(t, sigma=1):\n",
    "    \"\"\"Computes Mexican hat shape using numpy, see\n",
    "    http://en.wikipedia.org/wiki/Mexican_hat_wavelet for\n",
    "    equation (13 Dec 2011)\"\"\"\n",
    "    c = 2. / np.sqrt(3 * sigma) * np.pi ** 0.25\n",
    "    return c * (1 - t ** 2 / sigma ** 2) * np.exp(-t ** 2 / (2 * sigma ** 2))\n",
    "\n",
    "\n",
    "def dist(a,b, mode=0):\n",
    "    # Function is implemented with different modes but mode 0 is used in code\n",
    "    if mode==0:\n",
    "        diff = a - b\n",
    "        return np.sqrt(np.dot(diff.T, diff))\n",
    "    \n",
    "    elif mode==1:\n",
    "        return np.sqrt(np.sum(np.square(a - b)))\n",
    "    \n",
    "    elif mode==2:\n",
    "        return np.linalg.norm(a-b)\n",
    "    \n",
    "    elif mode==3:\n",
    "        out = 0\n",
    "        for i in range(len(a)):\n",
    "            out += np.power(a[i] - b[i],2)\n",
    "\n",
    "        return np.sqrt(out)\n",
    "\n",
    "\n",
    "def som_tester(input_data_list, data_labels, network_object):\n",
    "    for i in  range(len(input_data_list)):\n",
    "        print(\"{:10s}\".format(str(network_object.winner(input_data_list[i]))),\"{:10s}\".format(data_labels[i]))\n",
    "\n",
    "\n",
    "def visualize(network_object, data, labels, labels_by_index):\n",
    "    bone()\n",
    "    pcolor(network_object.distance_map().T)\n",
    "    colorbar()\n",
    "    markers         = [\"o\", \"s\", \"v\", \"P\", \"*\", \"x\"]\n",
    "    colors          = [\"r\", \"g\", \"b\", \"c\", \"m\", \"y\"]\n",
    "    for i,x in enumerate(data):\n",
    "        w = network_object.winner(x)\n",
    "        plot(w[0]+0.5, w[1]+0.5, markers[labels_by_index.index(labels[i])], markeredgecolor=colors[labels_by_index.index(labels[i])], markerfacecolor=\"None\", markersize=10, markeredgewidth=2)\n",
    "    show()\n",
    "#     legend(handles=(\"o\", \"s\", \"v\", \"P\", \"*\", \"x\") , labels=labels_by_index)\n",
    "#     legend(handles=(\"o\", \"s\", \"v\", \"P\", \"*\", \"x\"))"
   ]
  },
  {
   "cell_type": "markdown",
   "metadata": {
    "id": "j10ul_3-eFxM"
   },
   "source": [
    "### Data"
   ]
  },
  {
   "cell_type": "code",
   "execution_count": 26,
   "metadata": {
    "executionInfo": {
     "elapsed": 617,
     "status": "ok",
     "timestamp": 1639011490010,
     "user": {
      "displayName": "Abedini Tohid",
      "photoUrl": "https://lh3.googleusercontent.com/a/default-user=s64",
      "userId": "14592010492783304561"
     },
     "user_tz": -210
    },
    "id": "AA4vJNnQeFxO"
   },
   "outputs": [],
   "source": [
    "train = np.array([\n",
    "        [0, 0, 0, 1, 0, 0, 0, 0, 0, 0, 1, 0, 0, 0, 0, 0, 0, 1, 0, 0, 0, 0, 0, 1, 0, 1, 0, 0, 0, 0, 1, 0, 1, 0, 0, 0, 1, 1, 1, 1, 1, 0, 0, 1, 0, 0, 0, 1, 0, 0, 1, 0, 0, 0, 1, 0, 1, 1, 1, 0, 1, 1, 1],\n",
    "        [0, 0, 0, 1, 0, 0, 0, 0, 0, 0, 1, 0, 0, 0, 0, 0, 1, 0, 1, 0, 0, 0, 0, 1, 0, 1, 0, 0, 0, 1, 0, 0, 0, 1, 0, 0, 1, 1, 1, 1, 1, 0, 1, 0, 0, 0, 0, 0, 1, 1, 0, 0, 0, 0, 0, 1, 1, 0, 0, 0, 0, 0, 1],\n",
    "        [0, 0, 0, 1, 0, 0, 0, 0, 0, 0, 1, 0, 0, 0, 0, 0, 0, 1, 0, 0, 0, 0, 0, 1, 0, 1, 0, 0, 0, 0, 1, 0, 1, 0, 0, 0, 1, 1, 1, 1, 1, 0, 0, 1, 0, 0, 0, 1, 0, 0, 1, 0, 0, 0, 1, 0, 0, 1, 0, 0, 0, 1, 0],\n",
    "\n",
    "        [1, 1, 1, 1, 1, 1, 0, 0, 1, 0, 0, 0, 0, 1, 0, 1, 0, 0, 0, 0, 1, 0, 1, 1, 1, 1, 1, 0, 0, 1, 0, 0, 0, 0, 1, 0, 1, 0, 0, 0, 0, 1, 0, 1, 0, 0, 0, 0, 1, 0, 1, 0, 0, 0, 0, 1, 1, 1, 1, 1, 1, 1, 0],\n",
    "        [1, 1, 1, 1, 1, 1, 0, 0, 1, 0, 0, 0, 0, 1, 0, 1, 0, 0, 0, 0, 1, 0, 1, 0, 0, 0, 0, 1, 0, 1, 1, 1, 1, 1, 0, 0, 1, 0, 0, 0, 0, 1, 0, 1, 0, 0, 0, 0, 1, 0, 1, 0, 0, 0, 0, 1, 1, 1, 1, 1, 1, 1, 0],\n",
    "        [1, 1, 1, 1, 1, 1, 0, 1, 0, 0, 0, 0, 0, 1, 1, 0, 0, 0, 0, 0, 1, 1, 0, 0, 0, 0, 0, 1, 1, 1, 1, 1, 1, 1, 0, 1, 0, 0, 0, 0, 0, 1, 1, 0, 0, 0, 0, 0, 1, 1, 0, 0, 0, 0, 0, 1, 1, 1, 1, 1, 1, 1, 0],\n",
    "        \n",
    "        [0, 0, 1, 1, 1, 0, 1, 0, 1, 0, 0, 0, 1, 1, 1, 0, 0, 0, 0, 0, 1, 1, 0, 0, 0, 0, 0, 0, 1, 0, 0, 0, 0, 0, 0, 1, 0, 0, 0, 0, 0, 0, 1, 0, 0, 0, 0, 0, 1, 0, 1, 0, 0, 0, 1, 0, 0, 0, 1, 1, 1, 0, 0],\n",
    "        [0, 0, 1, 1, 1, 0, 0, 0, 1, 0, 0, 0, 1, 0, 1, 0, 0, 0, 0, 0, 1, 1, 0, 0, 0, 0, 0, 0, 1, 0, 0, 0, 0, 0, 0, 1, 0, 0, 0, 0, 0, 0, 1, 0, 0, 0, 0, 0, 1, 0, 1, 0, 0, 0, 1, 0, 0, 0, 1, 1, 1, 0, 0],\n",
    "        [0, 0, 1, 1, 1, 1, 1, 0, 1, 0, 0, 0, 0, 1, 1, 0, 0, 0, 0, 0, 0, 1, 0, 0, 0, 0, 0, 0, 1, 0, 0, 0, 0, 0, 0, 1, 0, 0, 0, 0, 0, 0, 1, 0, 0, 0, 0, 0, 0, 0, 1, 0, 0, 0, 0, 1, 0, 0, 1, 1, 1, 1, 1],\n",
    "    \n",
    "        [1, 1, 1, 1, 1, 1, 1, 1, 0, 0, 0, 0, 0, 0, 1, 0, 0, 0, 0, 0, 0, 1, 0, 0, 0, 0, 0, 0, 1, 1, 1, 1, 1, 0, 0, 1, 0, 0, 0, 0, 0, 0, 1, 0, 0, 0, 0, 0, 0, 1, 0, 0, 0, 0, 0, 0, 1, 1, 1, 1, 1, 1, 1],\n",
    "        [1, 1, 1, 1, 1, 1, 1, 0, 1, 0, 0, 0, 0, 0, 0, 1, 0, 0, 0, 0, 0, 0, 1, 0, 1, 0, 0, 0, 0, 1, 1, 1, 0, 0, 0, 0, 1, 0, 1, 0, 0, 0, 0, 1, 0, 0, 0, 0, 0, 0, 1, 0, 0, 0, 0, 0, 1, 1, 1, 1, 1, 1, 1],\n",
    "        [1, 1, 1, 1, 1, 1, 1, 0, 1, 0, 0, 0, 0, 0, 0, 1, 0, 0, 0, 0, 0, 0, 1, 0, 0, 1, 0, 0, 0, 1, 1, 1, 1, 0, 0, 0, 1, 0, 0, 1, 0, 0, 0, 1, 0, 0, 0, 0, 0, 0, 1, 0, 0, 0, 0, 0, 1, 1, 1, 1, 1, 1, 1],\n",
    "    \n",
    "        [0, 0, 0, 1, 1, 1, 1, 0, 0, 0, 0, 0, 1, 0, 0, 0, 0, 0, 0, 1, 0, 0, 0, 0, 0, 0, 1, 0, 0, 0, 0, 0, 0, 1, 0, 0, 0, 0, 0, 0, 1, 0, 0, 1, 0, 0, 0, 1, 0, 0, 1, 0, 0, 0, 1, 0, 0, 0, 1, 1, 1, 0, 0],\n",
    "        [0, 0, 0, 0, 0, 1, 0, 0, 0, 0, 0, 0, 1, 0, 0, 0, 0, 0, 0, 1, 0, 0, 0, 0, 0, 0, 1, 0, 0, 0, 0, 0, 0, 1, 0, 0, 0, 0, 0, 0, 1, 0, 0, 1, 0, 0, 0, 1, 0, 0, 1, 0, 0, 0, 1, 0, 0, 0, 1, 1, 1, 0, 0],\n",
    "        [0, 0, 0, 0, 1, 1, 1, 0, 0, 0, 0, 0, 1, 0, 0, 0, 0, 0, 0, 1, 0, 0, 0, 0, 0, 0, 1, 0, 0, 0, 0, 0, 0, 1, 0, 0, 0, 0, 0, 0, 1, 0, 0, 0, 0, 0, 0, 1, 0, 0, 1, 0, 0, 0, 1, 0, 0, 0, 1, 1, 1, 0, 0],\n",
    "    \n",
    "        [1, 1, 1, 0, 0, 1, 1, 0, 1, 0, 0, 1, 0, 0, 0, 1, 0, 1, 0, 0, 0, 0, 1, 1, 0, 0, 0, 0, 0, 1, 1, 0, 0, 0, 0, 0, 1, 0, 1, 0, 0, 0, 0, 1, 0, 0, 1, 0, 0, 0, 1, 0, 0, 0, 1, 0, 1, 1, 1, 0, 0, 1, 1],\n",
    "        [1, 1, 1, 0, 0, 1, 1, 0, 1, 0, 0, 0, 1, 0, 0, 1, 0, 0, 1, 0, 0, 0, 1, 0, 1, 0, 0, 0, 0, 1, 1, 0, 0, 0, 0, 0, 1, 0, 1, 0, 0, 0, 0, 1, 0, 0, 1, 0, 0, 0, 1, 0, 0, 0, 1, 0, 1, 1, 1, 0, 0, 1, 1],\n",
    "        [1, 0, 0, 0, 0, 1, 0, 1, 0, 0, 0, 1, 0, 0, 1, 0, 0, 1, 0, 0, 0, 1, 0, 1, 0, 0, 0, 0, 1, 1, 0, 0, 0, 0, 0, 1, 0, 1, 0, 0, 0, 0, 1, 0, 0, 1, 0, 0, 0, 1, 0, 0, 0, 1, 0, 0, 1, 0, 0, 0, 0, 1, 0],\n",
    "        ])\n",
    "\n",
    "test = np.array([\n",
    "            [1, 1, 1, 1, 1, 0, 0, 1, 0, 0, 0, 0, 1, 0, 1, 0, 0, 0, 0, 0, 1, 1, 0, 0, 0, 0, 0, 1, 1, 0, 0, 0, 0, 0, 1, 1, 0, 0, 0, 0, 0, 1, 1, 0, 0, 0, 0, 0, 1, 1, 0, 0, 0, 0, 1, 0, 1, 1, 1, 1, 1, 0, 0],  \n",
    "            [1, 1, 1, 1, 1, 0, 0, 0, 1, 0, 0, 0, 1, 0, 0, 1, 0, 0, 0, 0, 1, 0, 1, 0, 0, 0, 0, 1, 0, 1, 0, 0, 0, 0, 1, 0, 1, 0, 0, 0, 0, 1, 0, 1, 0, 0, 0, 0, 1, 0, 1, 0, 0, 0, 1, 0, 1, 1, 1, 1, 1, 0, 0]\n",
    "            ])\n",
    "\n",
    "# train_labels    = [\"E\",\"E\",\"A\",\"A\",\"E\",\"A\",\"K\",\"B\",\"C\",\"B\",\"C\",\"J\",\"J\",\"C\",\"J\",\"B\",\"K\",\"K\"]\n",
    "train_labels    = [\"A\",\"A\",\"A\",\"B\",\"B\",\"B\",\"C\",\"C\",\"C\",\"E\",\"E\",\"E\",\"J\",\"J\",\"J\",\"K\",\"K\",\"K\"]\n",
    "labels_by_index = [\"A\", \"B\", \"C\", \"E\", \"J\", \"K\"]\n",
    "\n",
    "test_labels = [\"D\",\"D\"]\n",
    "\n",
    "m, n = 18, 63"
   ]
  },
  {
   "cell_type": "code",
   "execution_count": 27,
   "metadata": {
    "colab": {
     "base_uri": "https://localhost:8080/"
    },
    "executionInfo": {
     "elapsed": 19,
     "status": "ok",
     "timestamp": 1639011490760,
     "user": {
      "displayName": "Abedini Tohid",
      "photoUrl": "https://lh3.googleusercontent.com/a/default-user=s64",
      "userId": "14592010492783304561"
     },
     "user_tz": -210
    },
    "id": "AV7IvebfeFxR",
    "outputId": "76ba9be1-34c0-4784-fc09-51803ef5fcb9"
   },
   "outputs": [
    {
     "name": "stdout",
     "output_type": "stream",
     "text": [
      "(18, 63)\n",
      "(2, 63)\n"
     ]
    }
   ],
   "source": [
    "print(train.shape)\n",
    "print(test.shape)"
   ]
  },
  {
   "cell_type": "markdown",
   "metadata": {
    "id": "yRGq1vtQeFxY"
   },
   "source": [
    "### Part a"
   ]
  },
  {
   "cell_type": "markdown",
   "metadata": {
    "id": "jx70N9DreFxa"
   },
   "source": [
    "### 1. With Library (just for validity check)"
   ]
  },
  {
   "cell_type": "code",
   "execution_count": 5,
   "metadata": {
    "executionInfo": {
     "elapsed": 16,
     "status": "ok",
     "timestamp": 1639011015031,
     "user": {
      "displayName": "Abedini Tohid",
      "photoUrl": "https://lh3.googleusercontent.com/a/default-user=s64",
      "userId": "14592010492783304561"
     },
     "user_tz": -210
    },
    "id": "L6HYNOBfeFxc"
   },
   "outputs": [],
   "source": [
    "som = MiniSom(3, 6, len(train[0]), sigma=0.6, learning_rate=0.5)"
   ]
  },
  {
   "cell_type": "code",
   "execution_count": 6,
   "metadata": {
    "executionInfo": {
     "elapsed": 464,
     "status": "ok",
     "timestamp": 1639011018443,
     "user": {
      "displayName": "Abedini Tohid",
      "photoUrl": "https://lh3.googleusercontent.com/a/default-user=s64",
      "userId": "14592010492783304561"
     },
     "user_tz": -210
    },
    "id": "lpZiVN_WeFxd"
   },
   "outputs": [],
   "source": [
    "# som.get_weights()"
   ]
  },
  {
   "cell_type": "code",
   "execution_count": 7,
   "metadata": {
    "executionInfo": {
     "elapsed": 1214,
     "status": "ok",
     "timestamp": 1639011020329,
     "user": {
      "displayName": "Abedini Tohid",
      "photoUrl": "https://lh3.googleusercontent.com/a/default-user=s64",
      "userId": "14592010492783304561"
     },
     "user_tz": -210
    },
    "id": "V9MOpoM6eFxf"
   },
   "outputs": [],
   "source": [
    "som.train(train, 20000) # trains the SOM with 100 iterations"
   ]
  },
  {
   "cell_type": "code",
   "execution_count": 8,
   "metadata": {
    "colab": {
     "base_uri": "https://localhost:8080/",
     "height": 269
    },
    "executionInfo": {
     "elapsed": 519,
     "status": "ok",
     "timestamp": 1639011023728,
     "user": {
      "displayName": "Abedini Tohid",
      "photoUrl": "https://lh3.googleusercontent.com/a/default-user=s64",
      "userId": "14592010492783304561"
     },
     "user_tz": -210
    },
    "id": "LWnqa-Y2eFxg",
    "outputId": "9dacc22a-401c-4288-dc8b-ce9912ae6f40"
   },
   "outputs": [
    {
     "data": {
      "image/png": "[encoded data removed]",
      "text/plain": [
       "<Figure size 432x288 with 2 Axes>"
      ]
     },
     "metadata": {
      "needs_background": "light"
     },
     "output_type": "display_data"
    }
   ],
   "source": [
    "visualize(som, train, train_labels, labels_by_index)"
   ]
  },
  {
   "cell_type": "code",
   "execution_count": 9,
   "metadata": {
    "colab": {
     "base_uri": "https://localhost:8080/"
    },
    "executionInfo": {
     "elapsed": 427,
     "status": "ok",
     "timestamp": 1639011027305,
     "user": {
      "displayName": "Abedini Tohid",
      "photoUrl": "https://lh3.googleusercontent.com/a/default-user=s64",
      "userId": "14592010492783304561"
     },
     "user_tz": -210
    },
    "id": "JWUDahyfeFxh",
    "outputId": "4e9c822a-8a7b-4055-f729-20c233499f8e"
   },
   "outputs": [
    {
     "name": "stdout",
     "output_type": "stream",
     "text": [
      "(2, 4)     D         \n",
      "(1, 4)     D         \n",
      "------\n",
      "(0, 4)     A         \n",
      "(0, 3)     A         \n",
      "(0, 4)     A         \n",
      "(1, 4)     B         \n",
      "(1, 4)     B         \n",
      "(2, 4)     B         \n",
      "(2, 5)     C         \n",
      "(2, 5)     C         \n",
      "(2, 5)     C         \n",
      "(2, 3)     E         \n",
      "(1, 3)     E         \n",
      "(1, 3)     E         \n",
      "(1, 5)     J         \n",
      "(1, 5)     J         \n",
      "(1, 5)     J         \n",
      "(0, 0)     K         \n",
      "(1, 2)     K         \n",
      "(2, 0)     K         \n"
     ]
    }
   ],
   "source": [
    "som_tester(test,test_labels, som)\n",
    "print(\"------\")\n",
    "som_tester(train, train_labels, som)"
   ]
  },
  {
   "cell_type": "markdown",
   "metadata": {
    "id": "OhMQGJGueFxj"
   },
   "source": [
    "### 2.From Scratch"
   ]
  },
  {
   "cell_type": "code",
   "execution_count": 36,
   "metadata": {
    "executionInfo": {
     "elapsed": 492,
     "status": "ok",
     "timestamp": 1639012040728,
     "user": {
      "displayName": "Abedini Tohid",
      "photoUrl": "https://lh3.googleusercontent.com/a/default-user=s64",
      "userId": "14592010492783304561"
     },
     "user_tz": -210
    },
    "id": "bmLUJWa3eFx2"
   },
   "outputs": [],
   "source": [
    "class SOM:\n",
    "    def __init__(self, som_size, dataset):\n",
    "        self.som_size=som_size\n",
    "        self.dataset=dataset\n",
    "        self.weights = self.init_weights()\n",
    "        \n",
    "    \n",
    "    # The below method is borrowed from minisom library for visualization.\n",
    "    def distance_map(self):\n",
    "        \"\"\"\n",
    "        Returns the distance map of the weights.\n",
    "        Scaling is 'sum' , each cell is the normalised sum of\n",
    "        the distances between a neuron and its neighbours. Note that this\n",
    "        method uses the euclidean distance.\n",
    "        Parameters\n",
    "        \"\"\"\n",
    "\n",
    "        um = np.nan * np.zeros((self.weights.shape[0],self.weights.shape[1],8))\n",
    "\n",
    "        ii = [[0, -1, -1, -1, 0, 1, 1, 1]]*2\n",
    "        jj = [[-1, -1, 0, 1, 1, 1, 0, -1]]*2\n",
    "\n",
    "\n",
    "        for x in range(self.weights.shape[0]):\n",
    "            for y in range(self.weights.shape[1]):\n",
    "                w_2 = self.weights[x, y]\n",
    "                e = y % 2 == 0 \n",
    "                for k, (i, j) in enumerate(zip(ii[e], jj[e])):\n",
    "                    if (x+i >= 0 and x+i < self.weights.shape[0] and\n",
    "                            y+j >= 0 and y+j < self.weights.shape[1]):\n",
    "                        w_1 = self.weights[x+i, y+j]\n",
    "                        um[x, y, k] = dist(w_2, w_1)\n",
    "\n",
    "        um = np.nansum(um, axis=2)\n",
    "\n",
    "        return um/um.max()\n",
    "\n",
    "\n",
    "    def decay(self, alpha, i, epochs):\n",
    "        \"\"\"Decay function of the learning process.\n",
    "        Parameters\n",
    "        ----------\n",
    "        alpha : float - current learning rate.\n",
    "        i : int - current iteration.\n",
    "        epochs : int - maximum number of epochs for the training.\n",
    "        \"\"\"\n",
    "        # return alpha / (1+i/(epochs/2))\n",
    "        if i%1000==0:\n",
    "            return alpha * 0.95\n",
    "        else:\n",
    "            return alpha\n",
    "   \n",
    "        \n",
    "    # Step1: Init Weights - randomly with the given shape\n",
    "    def init_weights(self):\n",
    "        input_size = self.dataset[0].shape\n",
    "        weights = np.random.uniform(size=(self.som_size+input_size))\n",
    "        return weights\n",
    "    \n",
    "    \n",
    "    # Step2: Competition - find the closest neuron to a data\n",
    "    def winner(self, data):\n",
    "        out = np.zeros(self.weights.shape[:-1])\n",
    "        for i in range(len(out)):\n",
    "            for j in range(len(out[0])):\n",
    "                out[i,j] = dist(self.weights[i,j],data)\n",
    "        argmin = np.argmin(out)\n",
    "        \n",
    "        return int(argmin/out.shape[1]), argmin%out.shape[1]\n",
    "    \n",
    "    \n",
    "    # Step3: Cooperation and Adaptation - update weights\n",
    "    def weights_updater(self, winner_neuron, data, alpha, sigma):\n",
    "        for i in range(len(self.weights)):\n",
    "            for j in range(len(self.weights[0])):  \n",
    "                d = dist(self.weights[i,j],self.weights[winner_neuron])\n",
    "                h = gaussian_distance(d, sigma=sigma)\n",
    "                self.weights[i,j] += alpha * h * (data - self.weights[i,j])                \n",
    "        \n",
    "        # return is not necessary, it is just for test in the below cell\n",
    "        return self.weights\n",
    "    \n",
    "    \n",
    "    # Step4: Iterate\n",
    "    def train(self, epochs, alpha, sigma):\n",
    "        for i in range(epochs):\n",
    "            alpha = self.decay(alpha, i, epochs)\n",
    "            \n",
    "            if i%2000==0:\n",
    "                print(i)\n",
    "                # print(alpha)\n",
    "\n",
    "            for data in self.dataset:\n",
    "                winner_neuron = self.winner(data)\n",
    "                self.weights_updater(winner_neuron, data, alpha, sigma)"
   ]
  },
  {
   "cell_type": "code",
   "execution_count": 37,
   "metadata": {
    "executionInfo": {
     "elapsed": 9,
     "status": "ok",
     "timestamp": 1639012042146,
     "user": {
      "displayName": "Abedini Tohid",
      "photoUrl": "https://lh3.googleusercontent.com/a/default-user=s64",
      "userId": "14592010492783304561"
     },
     "user_tz": -210
    },
    "id": "Vyjjq5uGeFx4"
   },
   "outputs": [],
   "source": [
    "# Test\n",
    "# weights = SOM.init_weights()\n",
    "# weights.shape\n",
    "\n",
    "# SOM.winner(np.array([0,2,3]))\n",
    "\n",
    "# SOM.weights_updater((2,2), np.array([0,2,3]), alpha=0.4, sigma=0.5)"
   ]
  },
  {
   "cell_type": "code",
   "execution_count": 46,
   "metadata": {
    "colab": {
     "base_uri": "https://localhost:8080/"
    },
    "executionInfo": {
     "elapsed": 75519,
     "status": "ok",
     "timestamp": 1639012792267,
     "user": {
      "displayName": "Abedini Tohid",
      "photoUrl": "https://lh3.googleusercontent.com/a/default-user=s64",
      "userId": "14592010492783304561"
     },
     "user_tz": -210
    },
    "id": "NwNrWoyYeFx6",
    "outputId": "3d5e8d58-7254-4c3e-ee2d-ddf4e624b16a"
   },
   "outputs": [
    {
     "name": "stdout",
     "output_type": "stream",
     "text": [
      "0\n",
      "2000\n",
      "4000\n",
      "6000\n",
      "8000\n",
      "time is: 75.0995364189148 seconds.\n"
     ]
    }
   ],
   "source": [
    "t0 = time.time()\n",
    "\n",
    "epochs = 10000\n",
    "\n",
    "som_network = SOM(som_size=(4, 4), dataset=train)\n",
    "som_network.train(epochs=epochs, alpha=0.4, sigma=0.7)\n",
    "\n",
    "execution_time_calculator(t0)"
   ]
  },
  {
   "cell_type": "code",
   "execution_count": 47,
   "metadata": {
    "colab": {
     "base_uri": "https://localhost:8080/",
     "height": 269
    },
    "executionInfo": {
     "elapsed": 719,
     "status": "ok",
     "timestamp": 1639012794468,
     "user": {
      "displayName": "Abedini Tohid",
      "photoUrl": "https://lh3.googleusercontent.com/a/default-user=s64",
      "userId": "14592010492783304561"
     },
     "user_tz": -210
    },
    "id": "BZGs2ScTwisR",
    "outputId": "8424ab3e-2065-47d6-d539-51e6f45e3c7e"
   },
   "outputs": [
    {
     "data": {
      "image/png": "[encoded data removed]",
      "text/plain": [
       "<Figure size 432x288 with 2 Axes>"
      ]
     },
     "metadata": {
      "needs_background": "light"
     },
     "output_type": "display_data"
    }
   ],
   "source": [
    "visualize(som_network, train, train_labels, labels_by_index)"
   ]
  },
  {
   "cell_type": "code",
   "execution_count": 48,
   "metadata": {
    "colab": {
     "base_uri": "https://localhost:8080/"
    },
    "executionInfo": {
     "elapsed": 513,
     "status": "ok",
     "timestamp": 1639012812972,
     "user": {
      "displayName": "Abedini Tohid",
      "photoUrl": "https://lh3.googleusercontent.com/a/default-user=s64",
      "userId": "14592010492783304561"
     },
     "user_tz": -210
    },
    "id": "6QOTUQUCeFx8",
    "outputId": "4f98a803-59e0-4868-cf0d-d7866e0c56d4"
   },
   "outputs": [
    {
     "name": "stdout",
     "output_type": "stream",
     "text": [
      "(0, 0)     D         \n",
      "(3, 0)     D         \n",
      "------\n",
      "(2, 0)     A         \n",
      "(2, 0)     A         \n",
      "(2, 0)     A         \n",
      "(3, 0)     B         \n",
      "(3, 0)     B         \n",
      "(0, 0)     B         \n",
      "(0, 2)     C         \n",
      "(0, 2)     C         \n",
      "(0, 2)     C         \n",
      "(0, 0)     E         \n",
      "(2, 1)     E         \n",
      "(2, 1)     E         \n",
      "(0, 1)     J         \n",
      "(0, 1)     J         \n",
      "(0, 1)     J         \n",
      "(2, 1)     K         \n",
      "(2, 1)     K         \n",
      "(2, 2)     K         \n"
     ]
    }
   ],
   "source": [
    "som_tester(test,test_labels, som_network)\n",
    "print(\"------\")\n",
    "som_tester(train, train_labels, som_network)"
   ]
  },
  {
   "cell_type": "markdown",
   "metadata": {
    "id": "qVI_gsCleFx8"
   },
   "source": [
    "### Part b answers are in the pdf file : HW3-answers.pdf"
   ]
  }
 ],
 "metadata": {
  "colab": {
   "collapsed_sections": [],
   "name": "NN_HW3_Q2..ipynb",
   "provenance": []
  },
  "kernelspec": {
   "display_name": "Python 3",
   "language": "python",
   "name": "python3"
  },
  "language_info": {
   "codemirror_mode": {
    "name": "ipython",
    "version": 3
   },
   "file_extension": ".py",
   "mimetype": "text/x-python",
   "name": "python",
   "nbconvert_exporter": "python",
   "pygments_lexer": "ipython3",
   "version": "3.7.4"
  }
 },
 "nbformat": 4,
 "nbformat_minor": 5
}
