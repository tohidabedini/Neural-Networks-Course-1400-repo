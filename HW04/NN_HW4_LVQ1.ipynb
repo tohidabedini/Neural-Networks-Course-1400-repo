{
  "nbformat": 4,
  "nbformat_minor": 0,
  "metadata": {
    "colab": {
      "name": "NN_HW4_LVQ1.ipynb",
      "provenance": [],
      "collapsed_sections": []
    },
    "kernelspec": {
      "name": "python3",
      "display_name": "Python 3"
    },
    "language_info": {
      "name": "python"
    }
  },
  "cells": [
    {
      "cell_type": "markdown",
      "source": [
        "## **Import Libraries**"
      ],
      "metadata": {
        "id": "L54ywUYqOBAe"
      }
    },
    {
      "cell_type": "code",
      "execution_count": null,
      "metadata": {
        "id": "hwKTQ-99QgEM"
      },
      "outputs": [],
      "source": [
        "import numpy as np\n",
        "import matplotlib.pyplot as plt"
      ]
    },
    {
      "cell_type": "markdown",
      "source": [
        "## **Training Samples**"
      ],
      "metadata": {
        "id": "WC0BLITQOS9E"
      }
    },
    {
      "cell_type": "code",
      "source": [
        "X = np.array([[1   , 0.7 , 0.1 ],\n",
        "              [1   , 1   , 1   ],\n",
        "              [0.25, 0.95, 0.9 ],\n",
        "              [0.1 , 0.95, 0.85],\n",
        "              [0.87, 0   , 0.1 ],\n",
        "              [0.82, 0.2 , 0.14],\n",
        "              [0.8 , 0.2 , 0.2 ],\n",
        "              [0   , 0.85, 1   ],\n",
        "              [1   , 0   , 0   ],\n",
        "              [0.17, 1   , 0.8 ],\n",
        "              [0.9 , 0.1 , 0.1 ],\n",
        "              [0.85, 0.2 , 0.2 ],\n",
        "              [0.2 , 0.9 , 0.8 ],\n",
        "              [0.3 , 0.9 , 0.9 ],\n",
        "              [0   , 1   , 1   ],\n",
        "              [0.1 , 0.85, 0.9 ],\n",
        "              [0.92, 0.15, 0.1 ],\n",
        "              [1   , 0.13, 0.2 ]])\n",
        "X.shape"
      ],
      "metadata": {
        "colab": {
          "base_uri": "https://localhost:8080/"
        },
        "id": "tHzuiM6TQ9BA",
        "outputId": "981d4423-4077-4dba-9051-c58612b0dde6"
      },
      "execution_count": null,
      "outputs": [
        {
          "output_type": "execute_result",
          "data": {
            "text/plain": [
              "(18, 3)"
            ]
          },
          "metadata": {},
          "execution_count": 6
        }
      ]
    },
    {
      "cell_type": "code",
      "source": [
        "Y = np.array([[0],\n",
        "              [1],\n",
        "              [1],\n",
        "              [1],\n",
        "              [0],\n",
        "              [0],\n",
        "              [0],\n",
        "              [1],\n",
        "              [0],\n",
        "              [1],\n",
        "              [0],\n",
        "              [0],\n",
        "              [1],\n",
        "              [1],\n",
        "              [1],\n",
        "              [1],\n",
        "              [0],\n",
        "              [0]])\n",
        "Y.shape"
      ],
      "metadata": {
        "colab": {
          "base_uri": "https://localhost:8080/"
        },
        "id": "zddCYR_kSarP",
        "outputId": "928d00da-f481-466f-bdee-f53b57c16f4c"
      },
      "execution_count": null,
      "outputs": [
        {
          "output_type": "execute_result",
          "data": {
            "text/plain": [
              "(18, 1)"
            ]
          },
          "metadata": {},
          "execution_count": 7
        }
      ]
    },
    {
      "cell_type": "markdown",
      "source": [
        "## **Plot Data in 3D**"
      ],
      "metadata": {
        "id": "GFgZQghUO9V2"
      }
    },
    {
      "cell_type": "code",
      "source": [
        "##### Plot Samples in 3D #####\n",
        "\n"
      ],
      "metadata": {
        "id": "fzxm1i4yT6AE"
      },
      "execution_count": null,
      "outputs": []
    },
    {
      "cell_type": "markdown",
      "source": [
        "## **LVQ1 Model Implementation From Scratch**"
      ],
      "metadata": {
        "id": "DYsbr2YpPIjt"
      }
    },
    {
      "cell_type": "code",
      "source": [
        "##### Implement your LVQ1 model here#####\n",
        "\n",
        "class LVQ:\n",
        "\n",
        "  def __init__(self, epochs, alpha):\n",
        "    self.epochs = epochs\n",
        "    self.alpha = alpha\n"
      ],
      "metadata": {
        "id": "8w0XOoZHUPrF"
      },
      "execution_count": 1,
      "outputs": []
    },
    {
      "cell_type": "markdown",
      "source": [
        "## **Train Model**"
      ],
      "metadata": {
        "id": "_1fjbqJjPyD1"
      }
    },
    {
      "cell_type": "code",
      "source": [
        ""
      ],
      "metadata": {
        "id": "jVbyH4r2Lle1"
      },
      "execution_count": null,
      "outputs": []
    },
    {
      "cell_type": "markdown",
      "source": [
        "## **Plot Data in 3D**"
      ],
      "metadata": {
        "id": "blIk9Eg_Qb0O"
      }
    },
    {
      "cell_type": "code",
      "source": [
        "##### Plot Samples Again To Observe The Changes In Prototypes After Training #####\n"
      ],
      "metadata": {
        "id": "f-RgL5A6M_6N"
      },
      "execution_count": null,
      "outputs": []
    },
    {
      "cell_type": "markdown",
      "source": [
        "## **Test Model**"
      ],
      "metadata": {
        "id": "QpyCnp-aQjtF"
      }
    },
    {
      "cell_type": "code",
      "source": [
        "##### Test The Model With The Given Sample #####\n",
        "\n",
        "test_sample = np.array([[0.19, 0.93, 0.88]])"
      ],
      "metadata": {
        "id": "nhIcy6DYTGU_"
      },
      "execution_count": null,
      "outputs": []
    }
  ]
}