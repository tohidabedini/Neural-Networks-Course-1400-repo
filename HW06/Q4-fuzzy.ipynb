{
 "cells": [
  {
   "cell_type": "markdown",
   "id": "e8aa7278",
   "metadata": {},
   "source": [
    "# References\n",
    "\n",
    "https://gym.openai.com/docs/\n",
    "\n",
    "https://github.com/openai/gym/blob/master/gym/envs/classic_control/pendulum.py\n",
    "\n",
    "https://mspries.github.io/jimmy_pendulum.html\n",
    "\n",
    "https://stackoverflow.com/questions/42787924/why-is-episode-done-after-200-time-steps-gym-environment-mountaincar\n",
    "\n",
    "https://numpy.org/doc/stable/reference/generated/numpy.arctan2.html"
   ]
  },
  {
   "cell_type": "markdown",
   "id": "46dd4fdb",
   "metadata": {},
   "source": [
    "# Imports"
   ]
  },
  {
   "cell_type": "code",
   "execution_count": 464,
   "id": "c8db3334",
   "metadata": {},
   "outputs": [],
   "source": [
    "import gym\n",
    "import numpy as np\n",
    "import skfuzzy as fuzz\n",
    "from skfuzzy import control as ctrl\n",
    "from skfuzzy.control.controlsystem import CrispValueCalculator\n",
    "import matplotlib.pyplot as plt\n",
    "import time\n",
    "import copy\n",
    "from scipy.linalg import solve_continuous_are as riccati\n",
    "\n",
    "%matplotlib inline \n",
    "\n",
    "import warnings\n",
    "warnings.filterwarnings('ignore')"
   ]
  },
  {
   "cell_type": "markdown",
   "id": "72d31716",
   "metadata": {},
   "source": [
    "# Fuzzy Controller"
   ]
  },
  {
   "cell_type": "code",
   "execution_count": 465,
   "id": "d8cb92d9",
   "metadata": {},
   "outputs": [],
   "source": [
    "def to_degree(state):\n",
    "    out = np.arctan2(state[1],state[0])* (180/np.pi)\n",
    "    return out"
   ]
  },
  {
   "cell_type": "code",
   "execution_count": 466,
   "id": "48017971",
   "metadata": {},
   "outputs": [],
   "source": [
    "# Fuzzy Inputs & Outputs definition\n",
    "def create_fuzzy_input_output():\n",
    "    np.linspace(start=-8, stop=8, num=200)\n",
    "    degree = ctrl.Antecedent(np.linspace(start=-180, stop=180, num=200), 'degree')\n",
    "    dot = ctrl.Antecedent(np.linspace(start=-8, stop=8, num=200), 'dot')\n",
    "    action = ctrl.Consequent(np.linspace(start=-2, stop=2, num=200), 'action')\n",
    "    \n",
    "    names = ['VVL', 'VL', 'L', 'M', 'H', 'VH', 'VVH']\n",
    "    \n",
    "    dot['L'] = fuzz.trimf(dot.universe, [-8, -8, 0])   \n",
    "    dot['H'] = fuzz.trimf(dot.universe, [0, 8, 8])\n",
    "    \n",
    "    degree['1'] = fuzz.trimf(degree.universe, [0, 45, 90])\n",
    "    degree['2'] = fuzz.trimf(degree.universe, [90, 135, 180])\n",
    "    degree['Z'] = fuzz.trimf(degree.universe, [-20, 0, 20]) \n",
    "    degree['3'] = fuzz.trimf(degree.universe, [-180, -135, -90])\n",
    "    degree['4'] = fuzz.trimf(degree.universe, [-90, -45, 0])\n",
    "    \n",
    "    \n",
    "    action.automf(names = names)\n",
    "\n",
    "    return degree, dot, action\n",
    "\n",
    "\n",
    "# Define rules\n",
    "def fuzzy_rules():\n",
    "    degree, dot, action = create_fuzzy_input_output()\n",
    "\n",
    "    rules = [\n",
    "        \n",
    "        ctrl.Rule(degree['1'] & dot['L'], action['M']),\n",
    "        ctrl.Rule(degree['1'] & dot['H'], action['VL']),\n",
    "     \n",
    "        ctrl.Rule(degree['2'] & dot['L'], action['H']),\n",
    "        ctrl.Rule(degree['2'] & dot['H'], action['M']),\n",
    "    \n",
    "        ctrl.Rule(degree['3'] & dot['L'], action['L']),\n",
    "        ctrl.Rule(degree['3'] & dot['H'], action['VH']),        \n",
    "        \n",
    "        ctrl.Rule(degree['4'] & dot['L'], action['H']),\n",
    "        ctrl.Rule(degree['4'] & dot['H'], action['M']),\n",
    "        \n",
    "        ctrl.Rule(degree['Z'] & degree['1'] & dot['L'], action['M']),\n",
    "        ctrl.Rule(degree['Z'] & degree['1'] & dot['H'], action['VL']),\n",
    "        \n",
    "        ctrl.Rule(degree['Z'] & degree['4'] & dot['L'], action['VH']),\n",
    "        ctrl.Rule(degree['Z'] & degree['4'] & dot['H'], action['M']),\n",
    "\n",
    "    ]\n",
    "    \n",
    "    return rules\n",
    "\n",
    "\n",
    "# Controller Design\n",
    "def controller_design(rules):\n",
    "    # Define the control system\n",
    "    speeding_ctrl = ctrl.ControlSystem(rules)\n",
    "    \n",
    "    # Simulation object of controlsystem for representation and simulating\n",
    "    speeding = ctrl.ControlSystemSimulation(speeding_ctrl)\n",
    "    \n",
    "    return speeding\n",
    "\n",
    "\n",
    "rules = fuzzy_rules()\n",
    "speeding = controller_design(rules)\n",
    "\n",
    "\n",
    "\n",
    "# Normalizing variables \n",
    "def variables_normalizer_denormalizer(state=None , action=None, mode=0):\n",
    "    state = copy.deepcopy(state)\n",
    "    factor = 8\n",
    "    factor_output = 2\n",
    "    \n",
    "    if mode==0:\n",
    "        state[2] = state[2]/factor\n",
    "        \n",
    "    elif mode==1:\n",
    "        action[0] = action[0]*factor_output\n",
    "        \n",
    "    return state, action\n",
    "        \n",
    "\n",
    "# Final controller agent\n",
    "def control_agent(state, agent=speeding, mode=0):\n",
    "    if mode==0:\n",
    "        degree = to_degree(state)\n",
    "        dot = state[2]\n",
    "    elif mode==1:\n",
    "        degree = state[0]\n",
    "        dot = state[1]\n",
    "    elif mode==3:\n",
    "        degree = state[0]\n",
    "        dot = state[1]\n",
    "        \n",
    "    agent.input['degree'] = degree\n",
    "    agent.input['dot'] = dot\n",
    "\n",
    "    agent.compute()              \n",
    "                \n",
    "    action = agent.output['action']\n",
    "    \n",
    "#     print(f\"degree: {degree}, dot:{dot}, action:{action}\")\n",
    "\n",
    "    return [action]"
   ]
  },
  {
   "cell_type": "code",
   "execution_count": 467,
   "id": "73e09517",
   "metadata": {},
   "outputs": [],
   "source": [
    "# View membership diagrams\n",
    "\n",
    "# degree, dot, action = create_fuzzy_input_output()\n",
    "\n",
    "# degree.view();\n",
    "# dot.view();\n",
    "# action.view();\n",
    "# degree.universe"
   ]
  },
  {
   "cell_type": "markdown",
   "id": "491c84df",
   "metadata": {},
   "source": [
    "# Gym Env"
   ]
  },
  {
   "cell_type": "code",
   "execution_count": 471,
   "id": "8e0f953c",
   "metadata": {},
   "outputs": [],
   "source": [
    "# Final function to render to env and take actions\n",
    "def env_render(env, control_agent, MAX_STEPS=MAX_STEPS, MAX_EPISODES=MAX_EPISODES, render=True):\n",
    "    \n",
    "    for episode_counter in range(MAX_EPISODES):\n",
    "        print(episode_counter)\n",
    "        state = env.reset()\n",
    "        total_rewards = 0\n",
    "        rewards = []\n",
    "        done = False\n",
    "\n",
    "        for step_counter in range(MAX_STEPS):\n",
    "            if render:\n",
    "                env.render()\n",
    "                \n",
    "                \n",
    "            state, _ = variables_normalizer_denormalizer(state=state ,mode=0)\n",
    "\n",
    "            action = control_agent(state)\n",
    "            \n",
    "            _, action = variables_normalizer_denormalizer(action=action, mode=1)\n",
    "            \n",
    "            next_state, reward, done, _ = env.step(action)\n",
    "            total_rewards += reward\n",
    "            rewards.append(reward)\n",
    "\n",
    "            state = next_state\n",
    "            if done:\n",
    "                break\n",
    "                \n",
    "        print(\"episode number:{}, total_reward:{:.2f}, step_counter:{}\".format(episode_counter, total_rewards, step_counter))\n",
    "                \n",
    "        if done:\n",
    "            env.close()\n",
    "            break\n",
    "            \n",
    "    env.close()\n",
    "    return rewards, total_rewards"
   ]
  },
  {
   "cell_type": "code",
   "execution_count": 472,
   "id": "0764d55f",
   "metadata": {},
   "outputs": [],
   "source": [
    "# env = gym.envs.make(\"Pendulum-v0\")\n",
    "env = gym.make(\"Pendulum-v0\").env\n",
    "\n",
    "MAX_EPISODES = 1\n",
    "MAX_STEPS = 500"
   ]
  },
  {
   "cell_type": "code",
   "execution_count": 473,
   "id": "7dd1526d",
   "metadata": {},
   "outputs": [
    {
     "name": "stdout",
     "output_type": "stream",
     "text": [
      "0\n",
      "episode number:0, total_reward:-1107.10, step_counter:499\n"
     ]
    }
   ],
   "source": [
    "rewards, total_rewards = env_render(env, control_agent, MAX_STEPS=MAX_STEPS, MAX_EPISODES=MAX_EPISODES, render=True)"
   ]
  },
  {
   "cell_type": "markdown",
   "id": "7246110a",
   "metadata": {},
   "source": [
    "# Plot rewards"
   ]
  },
  {
   "cell_type": "code",
   "execution_count": 474,
   "id": "a826a582",
   "metadata": {},
   "outputs": [],
   "source": [
    "# plot rewatds\n",
    "def plot_rewards(rewards, limit=False, bottom=-3, top=8, ylabel=\"Rewards of steps\"):\n",
    "    plt.figure(figsize=(15, 8))\n",
    "    xticks = len(rewards)\n",
    "            \n",
    "    plt.plot(range(1,xticks+1), rewards)\n",
    "    if limit:\n",
    "        plt.ylim(top=top)\n",
    "        plt.ylim(bottom=bottom)\n",
    "            \n",
    "    plt.xlabel(\"Steps\")\n",
    "    plt.ylabel(ylabel)\n",
    "\n",
    "    plt.show()"
   ]
  },
  {
   "cell_type": "code",
   "execution_count": 475,
   "id": "e6d0d31b",
   "metadata": {},
   "outputs": [
    {
     "data": {
      "image/png": "[encoded data removed]",
      "text/plain": [
       "<Figure size 1080x576 with 1 Axes>"
      ]
     },
     "metadata": {
      "needs_background": "light"
     },
     "output_type": "display_data"
    }
   ],
   "source": [
    "plot_rewards(rewards)"
   ]
  },
  {
   "cell_type": "code",
   "execution_count": 476,
   "id": "91e03241",
   "metadata": {
    "scrolled": true
   },
   "outputs": [
    {
     "data": {
      "text/plain": [
       "-1107.1021297611337"
      ]
     },
     "execution_count": 476,
     "metadata": {},
     "output_type": "execute_result"
    }
   ],
   "source": [
    "# total_rewards value\n",
    "total_rewards"
   ]
  },
  {
   "cell_type": "code",
   "execution_count": null,
   "id": "ca3d98dd",
   "metadata": {},
   "outputs": [],
   "source": []
  }
 ],
 "metadata": {
  "kernelspec": {
   "display_name": "Python 3",
   "language": "python",
   "name": "python3"
  },
  "language_info": {
   "codemirror_mode": {
    "name": "ipython",
    "version": 3
   },
   "file_extension": ".py",
   "mimetype": "text/x-python",
   "name": "python",
   "nbconvert_exporter": "python",
   "pygments_lexer": "ipython3",
   "version": "3.7.9"
  }
 },
 "nbformat": 4,
 "nbformat_minor": 5
}
